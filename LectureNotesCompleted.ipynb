{
 "cells": [
  {
   "cell_type": "markdown",
   "metadata": {},
   "source": [
    "<a id='Top'></a>\n",
    "# <center>Module 2 Lecture Notes: Pandas and Working with Hydrographs</center>\n",
    "\n",
    "<ul>\n",
    "    <li><a href='#Pandas'>Module 2.0. Pandas</a></li>\n",
    "    <li><a href='#Plotting'>Module 2.1. Plotting with Pandas</a></li>\n",
    "    <li><a href='#DateTimes'>Module 2.2. DateTimes</a></li>\n",
    "    <li><a href='#Application'>Module 2.3. Application</a></li>\n",
    "</ul>\n",
    "\n"
   ]
  },
  {
   "cell_type": "markdown",
   "metadata": {},
   "source": [
    "<a id='Pandas'></a>\n",
    "\n",
    "\n",
    "# Module 2.0 Pandas\n",
    "\n",
    "For the rest of the semester, we are going to start focussing on the tools available to solve the hydrogeologic issues that we discuss in class. Homework 3 (to be assigned this week) will focus on analyzing groundwater data from irrigated aquifers in Illinois.\n",
    "\n",
    "To do this, we need to be able to do three main things in Python:\n",
    "\n",
    "<ul>\n",
    "    <li>Import large datasets</li>\n",
    "    <li>Plot the data</li>\n",
    "</ul>\n",
    "\n",
    "For this, we are going to need to take advantage of the following libraries:\n",
    "\n",
    "<ul>\n",
    "    <li>Pandas Data Analysis Library</li>\n",
    "    <li>Matplotlib</li>\n",
    "</ul>\n",
    "\n",
    "Let's import the libraries that we are going to use today. We will discuss them further as we introduce them."
   ]
  },
  {
   "cell_type": "code",
   "execution_count": 1,
   "metadata": {},
   "outputs": [],
   "source": [
    "# import pandas with alias pd\n",
    "import pandas as pd\n",
    "# import matplotlib as plt\n",
    "import matplotlib.pyplot as plt\n",
    "%matplotlib inline"
   ]
  },
  {
   "cell_type": "markdown",
   "metadata": {
    "slideshow": {
     "slide_type": "fragment"
    }
   },
   "source": [
    "# Pandas\n",
    "\n",
    "The Python Data Analysis Library, or Pandas, is an open source library providing high-performance, easy-to-use data structures and data analysis tools for Python.\n",
    "\n",
    "https://pandas.pydata.org/\n",
    "\n",
    "<img src = \"https://d1o50x50snmhul.cloudfront.net/wp-content/uploads/2017/06/14111650/00000-00568744-800x533.jpg\"/>"
   ]
  },
  {
   "cell_type": "markdown",
   "metadata": {},
   "source": [
    "### Import Pandas\n",
    "\n",
    "To import Pandas, we type:\n",
    "\n",
    "`import pandas as pd`\n",
    "\n",
    "pd is an alias used by most Python coders."
   ]
  },
  {
   "cell_type": "markdown",
   "metadata": {},
   "source": [
    "### Pandas as an Excel substitute\n",
    "\n",
    "Pandas allows for much of the same functionality as Excel. Pandas has a data type called `DataFrame` that works on the same principle of rows and columns as excel. Each row has an index, and each column has a heading.\n",
    "\n",
    "It is relatively simple to read an Excel file into Python with Pandas using the `pd.read_excel()` function. Similar in functionality, we can also read CSV files using `pd.read_csv()`. The output is a DataFrame."
   ]
  },
  {
   "cell_type": "code",
   "execution_count": 12,
   "metadata": {},
   "outputs": [
    {
     "data": {
      "text/html": [
       "<div>\n",
       "<style scoped>\n",
       "    .dataframe tbody tr th:only-of-type {\n",
       "        vertical-align: middle;\n",
       "    }\n",
       "\n",
       "    .dataframe tbody tr th {\n",
       "        vertical-align: top;\n",
       "    }\n",
       "\n",
       "    .dataframe thead th {\n",
       "        text-align: right;\n",
       "    }\n",
       "</style>\n",
       "<table border=\"1\" class=\"dataframe\">\n",
       "  <thead>\n",
       "    <tr style=\"text-align: right;\">\n",
       "      <th></th>\n",
       "      <th>RECORD</th>\n",
       "      <th>TIMESTAMP</th>\n",
       "      <th>depth_to_water_from_land_surface</th>\n",
       "      <th>head</th>\n",
       "    </tr>\n",
       "  </thead>\n",
       "  <tbody>\n",
       "    <tr>\n",
       "      <th>0</th>\n",
       "      <td>0</td>\n",
       "      <td>2014-08-14 14:00:00</td>\n",
       "      <td>26.59</td>\n",
       "      <td>584.06</td>\n",
       "    </tr>\n",
       "    <tr>\n",
       "      <th>1</th>\n",
       "      <td>1</td>\n",
       "      <td>2014-08-14 15:00:00</td>\n",
       "      <td>26.58</td>\n",
       "      <td>584.07</td>\n",
       "    </tr>\n",
       "    <tr>\n",
       "      <th>2</th>\n",
       "      <td>2</td>\n",
       "      <td>2014-08-14 16:00:00</td>\n",
       "      <td>26.58</td>\n",
       "      <td>584.07</td>\n",
       "    </tr>\n",
       "    <tr>\n",
       "      <th>3</th>\n",
       "      <td>3</td>\n",
       "      <td>2014-08-14 17:00:00</td>\n",
       "      <td>26.59</td>\n",
       "      <td>584.06</td>\n",
       "    </tr>\n",
       "    <tr>\n",
       "      <th>4</th>\n",
       "      <td>4</td>\n",
       "      <td>2014-08-14 18:00:00</td>\n",
       "      <td>26.61</td>\n",
       "      <td>584.04</td>\n",
       "    </tr>\n",
       "    <tr>\n",
       "      <th>...</th>\n",
       "      <td>...</td>\n",
       "      <td>...</td>\n",
       "      <td>...</td>\n",
       "      <td>...</td>\n",
       "    </tr>\n",
       "    <tr>\n",
       "      <th>53992</th>\n",
       "      <td>67282</td>\n",
       "      <td>2020-11-20 10:00:00</td>\n",
       "      <td>11.73</td>\n",
       "      <td>598.92</td>\n",
       "    </tr>\n",
       "    <tr>\n",
       "      <th>53993</th>\n",
       "      <td>67283</td>\n",
       "      <td>2020-11-20 11:00:00</td>\n",
       "      <td>11.73</td>\n",
       "      <td>598.92</td>\n",
       "    </tr>\n",
       "    <tr>\n",
       "      <th>53994</th>\n",
       "      <td>67284</td>\n",
       "      <td>2020-11-20 12:00:00</td>\n",
       "      <td>11.73</td>\n",
       "      <td>598.92</td>\n",
       "    </tr>\n",
       "    <tr>\n",
       "      <th>53995</th>\n",
       "      <td>67285</td>\n",
       "      <td>2020-11-20 13:00:00</td>\n",
       "      <td>11.73</td>\n",
       "      <td>598.92</td>\n",
       "    </tr>\n",
       "    <tr>\n",
       "      <th>53996</th>\n",
       "      <td>67286</td>\n",
       "      <td>2020-11-20 14:00:00</td>\n",
       "      <td>11.73</td>\n",
       "      <td>598.92</td>\n",
       "    </tr>\n",
       "  </tbody>\n",
       "</table>\n",
       "<p>53997 rows × 4 columns</p>\n",
       "</div>"
      ],
      "text/plain": [
       "       RECORD            TIMESTAMP  depth_to_water_from_land_surface    head\n",
       "0           0  2014-08-14 14:00:00                             26.59  584.06\n",
       "1           1  2014-08-14 15:00:00                             26.58  584.07\n",
       "2           2  2014-08-14 16:00:00                             26.58  584.07\n",
       "3           3  2014-08-14 17:00:00                             26.59  584.06\n",
       "4           4  2014-08-14 18:00:00                             26.61  584.04\n",
       "...       ...                  ...                               ...     ...\n",
       "53992   67282  2020-11-20 10:00:00                             11.73  598.92\n",
       "53993   67283  2020-11-20 11:00:00                             11.73  598.92\n",
       "53994   67284  2020-11-20 12:00:00                             11.73  598.92\n",
       "53995   67285  2020-11-20 13:00:00                             11.73  598.92\n",
       "53996   67286  2020-11-20 14:00:00                             11.73  598.92\n",
       "\n",
       "[53997 rows x 4 columns]"
      ]
     },
     "execution_count": 12,
     "metadata": {},
     "output_type": "execute_result"
    }
   ],
   "source": [
    "# read a csv file from the ISWS website\n",
    "# 'http://aqueduct.isws.illinois.edu/data/381651_HRY-91C_hyd.csv'\n",
    "df = pd.read_csv('http://aqueduct.isws.illinois.edu/data/381651_HRY-91C_hyd.csv')\n",
    "df"
   ]
  },
  {
   "cell_type": "markdown",
   "metadata": {},
   "source": [
    "As you can see above, all columns are imported into the DataFrame. If you want to work with a single column within a DataFrame, it is relatively simple using the format `DataFrame.ColumnName` or `DataFrame['ColumnName']`. Even still, the data has an index associated with it. This single set of data is referred to as a Series in Pandas."
   ]
  },
  {
   "cell_type": "code",
   "execution_count": 10,
   "metadata": {
    "scrolled": true
   },
   "outputs": [
    {
     "data": {
      "text/plain": [
       "0        584.06\n",
       "1        584.07\n",
       "2        584.07\n",
       "3        584.06\n",
       "4        584.04\n",
       "          ...  \n",
       "53992    598.92\n",
       "53993    598.92\n",
       "53994    598.92\n",
       "53995    598.92\n",
       "53996    598.92\n",
       "Name: head, Length: 53997, dtype: float64"
      ]
     },
     "execution_count": 10,
     "metadata": {},
     "output_type": "execute_result"
    }
   ],
   "source": [
    "#DataFrame[ColumnName]\n",
    "df['head']"
   ]
  },
  {
   "cell_type": "markdown",
   "metadata": {},
   "source": [
    "Working at the ISWS, I have to present information to stakeholders in units of feet. This dataframe makes the mistake of not clearly labeling this. Let's change names of the DataFrame to address this. "
   ]
  },
  {
   "cell_type": "code",
   "execution_count": 11,
   "metadata": {},
   "outputs": [
    {
     "name": "stdout",
     "output_type": "stream",
     "text": [
      "   A  B\n",
      "0  1  4\n",
      "1  2  5\n",
      "2  3  6\n",
      "   a  c\n",
      "0  1  4\n",
      "1  2  5\n",
      "2  3  6\n"
     ]
    }
   ],
   "source": [
    "df = pd.DataFrame({\"A\": [1, 2, 3], \"B\": [4, 5, 6]})\n",
    "print(df)\n",
    "df = df.rename(columns={\"A\": \"a\", \"B\": \"c\"})\n",
    "print(df)"
   ]
  },
  {
   "cell_type": "code",
   "execution_count": 14,
   "metadata": {},
   "outputs": [
    {
     "data": {
      "text/html": [
       "<div>\n",
       "<style scoped>\n",
       "    .dataframe tbody tr th:only-of-type {\n",
       "        vertical-align: middle;\n",
       "    }\n",
       "\n",
       "    .dataframe tbody tr th {\n",
       "        vertical-align: top;\n",
       "    }\n",
       "\n",
       "    .dataframe thead th {\n",
       "        text-align: right;\n",
       "    }\n",
       "</style>\n",
       "<table border=\"1\" class=\"dataframe\">\n",
       "  <thead>\n",
       "    <tr style=\"text-align: right;\">\n",
       "      <th></th>\n",
       "      <th>record</th>\n",
       "      <th>timestamp</th>\n",
       "      <th>dtw_ft</th>\n",
       "      <th>head_ft</th>\n",
       "    </tr>\n",
       "  </thead>\n",
       "  <tbody>\n",
       "    <tr>\n",
       "      <th>0</th>\n",
       "      <td>0</td>\n",
       "      <td>2014-08-14 14:00:00</td>\n",
       "      <td>26.59</td>\n",
       "      <td>584.06</td>\n",
       "    </tr>\n",
       "    <tr>\n",
       "      <th>1</th>\n",
       "      <td>1</td>\n",
       "      <td>2014-08-14 15:00:00</td>\n",
       "      <td>26.58</td>\n",
       "      <td>584.07</td>\n",
       "    </tr>\n",
       "    <tr>\n",
       "      <th>2</th>\n",
       "      <td>2</td>\n",
       "      <td>2014-08-14 16:00:00</td>\n",
       "      <td>26.58</td>\n",
       "      <td>584.07</td>\n",
       "    </tr>\n",
       "    <tr>\n",
       "      <th>3</th>\n",
       "      <td>3</td>\n",
       "      <td>2014-08-14 17:00:00</td>\n",
       "      <td>26.59</td>\n",
       "      <td>584.06</td>\n",
       "    </tr>\n",
       "    <tr>\n",
       "      <th>4</th>\n",
       "      <td>4</td>\n",
       "      <td>2014-08-14 18:00:00</td>\n",
       "      <td>26.61</td>\n",
       "      <td>584.04</td>\n",
       "    </tr>\n",
       "    <tr>\n",
       "      <th>...</th>\n",
       "      <td>...</td>\n",
       "      <td>...</td>\n",
       "      <td>...</td>\n",
       "      <td>...</td>\n",
       "    </tr>\n",
       "    <tr>\n",
       "      <th>53992</th>\n",
       "      <td>67282</td>\n",
       "      <td>2020-11-20 10:00:00</td>\n",
       "      <td>11.73</td>\n",
       "      <td>598.92</td>\n",
       "    </tr>\n",
       "    <tr>\n",
       "      <th>53993</th>\n",
       "      <td>67283</td>\n",
       "      <td>2020-11-20 11:00:00</td>\n",
       "      <td>11.73</td>\n",
       "      <td>598.92</td>\n",
       "    </tr>\n",
       "    <tr>\n",
       "      <th>53994</th>\n",
       "      <td>67284</td>\n",
       "      <td>2020-11-20 12:00:00</td>\n",
       "      <td>11.73</td>\n",
       "      <td>598.92</td>\n",
       "    </tr>\n",
       "    <tr>\n",
       "      <th>53995</th>\n",
       "      <td>67285</td>\n",
       "      <td>2020-11-20 13:00:00</td>\n",
       "      <td>11.73</td>\n",
       "      <td>598.92</td>\n",
       "    </tr>\n",
       "    <tr>\n",
       "      <th>53996</th>\n",
       "      <td>67286</td>\n",
       "      <td>2020-11-20 14:00:00</td>\n",
       "      <td>11.73</td>\n",
       "      <td>598.92</td>\n",
       "    </tr>\n",
       "  </tbody>\n",
       "</table>\n",
       "<p>53997 rows × 4 columns</p>\n",
       "</div>"
      ],
      "text/plain": [
       "       record            timestamp  dtw_ft  head_ft\n",
       "0           0  2014-08-14 14:00:00   26.59   584.06\n",
       "1           1  2014-08-14 15:00:00   26.58   584.07\n",
       "2           2  2014-08-14 16:00:00   26.58   584.07\n",
       "3           3  2014-08-14 17:00:00   26.59   584.06\n",
       "4           4  2014-08-14 18:00:00   26.61   584.04\n",
       "...       ...                  ...     ...      ...\n",
       "53992   67282  2020-11-20 10:00:00   11.73   598.92\n",
       "53993   67283  2020-11-20 11:00:00   11.73   598.92\n",
       "53994   67284  2020-11-20 12:00:00   11.73   598.92\n",
       "53995   67285  2020-11-20 13:00:00   11.73   598.92\n",
       "53996   67286  2020-11-20 14:00:00   11.73   598.92\n",
       "\n",
       "[53997 rows x 4 columns]"
      ]
     },
     "execution_count": 14,
     "metadata": {},
     "output_type": "execute_result"
    }
   ],
   "source": [
    "# change head to head_ft\n",
    "\n",
    "# change depth_to_water_from_land_surface to dtw_ft\n",
    "\n",
    "df = df.rename(columns={\"RECORD\": \"record\", \"TIMESTAMP\": \"timestamp\", \"depth_to_water_from_land_surface\": \"dtw_ft\", \"head\": \"head_ft\"})\n",
    "df"
   ]
  },
  {
   "cell_type": "markdown",
   "metadata": {},
   "source": [
    "# Finally, let's do some simple math"
   ]
  },
  {
   "cell_type": "markdown",
   "metadata": {},
   "source": [
    "At the ISWS, we communicate with the public (and need to use feet/inches) and publish international research (where we need to use the metric system). It is critical to be able to do unit conversions, preferably in as few steps as possible.\n",
    "\n",
    "If we were dealing with lists, we can use as a list comprehension, as you say in Module 1. However, with Pandas, it is even easier. You can conduct scalar multiplication on a single column of a DataFrame. Let's try it."
   ]
  },
  {
   "cell_type": "code",
   "execution_count": 15,
   "metadata": {},
   "outputs": [
    {
     "data": {
      "text/html": [
       "<div>\n",
       "<style scoped>\n",
       "    .dataframe tbody tr th:only-of-type {\n",
       "        vertical-align: middle;\n",
       "    }\n",
       "\n",
       "    .dataframe tbody tr th {\n",
       "        vertical-align: top;\n",
       "    }\n",
       "\n",
       "    .dataframe thead th {\n",
       "        text-align: right;\n",
       "    }\n",
       "</style>\n",
       "<table border=\"1\" class=\"dataframe\">\n",
       "  <thead>\n",
       "    <tr style=\"text-align: right;\">\n",
       "      <th></th>\n",
       "      <th>record</th>\n",
       "      <th>timestamp</th>\n",
       "      <th>dtw_ft</th>\n",
       "      <th>head_ft</th>\n",
       "      <th>head_m</th>\n",
       "    </tr>\n",
       "  </thead>\n",
       "  <tbody>\n",
       "    <tr>\n",
       "      <th>0</th>\n",
       "      <td>0</td>\n",
       "      <td>2014-08-14 14:00:00</td>\n",
       "      <td>26.59</td>\n",
       "      <td>584.06</td>\n",
       "      <td>178.067073</td>\n",
       "    </tr>\n",
       "    <tr>\n",
       "      <th>1</th>\n",
       "      <td>1</td>\n",
       "      <td>2014-08-14 15:00:00</td>\n",
       "      <td>26.58</td>\n",
       "      <td>584.07</td>\n",
       "      <td>178.070122</td>\n",
       "    </tr>\n",
       "    <tr>\n",
       "      <th>2</th>\n",
       "      <td>2</td>\n",
       "      <td>2014-08-14 16:00:00</td>\n",
       "      <td>26.58</td>\n",
       "      <td>584.07</td>\n",
       "      <td>178.070122</td>\n",
       "    </tr>\n",
       "    <tr>\n",
       "      <th>3</th>\n",
       "      <td>3</td>\n",
       "      <td>2014-08-14 17:00:00</td>\n",
       "      <td>26.59</td>\n",
       "      <td>584.06</td>\n",
       "      <td>178.067073</td>\n",
       "    </tr>\n",
       "    <tr>\n",
       "      <th>4</th>\n",
       "      <td>4</td>\n",
       "      <td>2014-08-14 18:00:00</td>\n",
       "      <td>26.61</td>\n",
       "      <td>584.04</td>\n",
       "      <td>178.060976</td>\n",
       "    </tr>\n",
       "    <tr>\n",
       "      <th>...</th>\n",
       "      <td>...</td>\n",
       "      <td>...</td>\n",
       "      <td>...</td>\n",
       "      <td>...</td>\n",
       "      <td>...</td>\n",
       "    </tr>\n",
       "    <tr>\n",
       "      <th>53992</th>\n",
       "      <td>67282</td>\n",
       "      <td>2020-11-20 10:00:00</td>\n",
       "      <td>11.73</td>\n",
       "      <td>598.92</td>\n",
       "      <td>182.597561</td>\n",
       "    </tr>\n",
       "    <tr>\n",
       "      <th>53993</th>\n",
       "      <td>67283</td>\n",
       "      <td>2020-11-20 11:00:00</td>\n",
       "      <td>11.73</td>\n",
       "      <td>598.92</td>\n",
       "      <td>182.597561</td>\n",
       "    </tr>\n",
       "    <tr>\n",
       "      <th>53994</th>\n",
       "      <td>67284</td>\n",
       "      <td>2020-11-20 12:00:00</td>\n",
       "      <td>11.73</td>\n",
       "      <td>598.92</td>\n",
       "      <td>182.597561</td>\n",
       "    </tr>\n",
       "    <tr>\n",
       "      <th>53995</th>\n",
       "      <td>67285</td>\n",
       "      <td>2020-11-20 13:00:00</td>\n",
       "      <td>11.73</td>\n",
       "      <td>598.92</td>\n",
       "      <td>182.597561</td>\n",
       "    </tr>\n",
       "    <tr>\n",
       "      <th>53996</th>\n",
       "      <td>67286</td>\n",
       "      <td>2020-11-20 14:00:00</td>\n",
       "      <td>11.73</td>\n",
       "      <td>598.92</td>\n",
       "      <td>182.597561</td>\n",
       "    </tr>\n",
       "  </tbody>\n",
       "</table>\n",
       "<p>53997 rows × 5 columns</p>\n",
       "</div>"
      ],
      "text/plain": [
       "       record            timestamp  dtw_ft  head_ft      head_m\n",
       "0           0  2014-08-14 14:00:00   26.59   584.06  178.067073\n",
       "1           1  2014-08-14 15:00:00   26.58   584.07  178.070122\n",
       "2           2  2014-08-14 16:00:00   26.58   584.07  178.070122\n",
       "3           3  2014-08-14 17:00:00   26.59   584.06  178.067073\n",
       "4           4  2014-08-14 18:00:00   26.61   584.04  178.060976\n",
       "...       ...                  ...     ...      ...         ...\n",
       "53992   67282  2020-11-20 10:00:00   11.73   598.92  182.597561\n",
       "53993   67283  2020-11-20 11:00:00   11.73   598.92  182.597561\n",
       "53994   67284  2020-11-20 12:00:00   11.73   598.92  182.597561\n",
       "53995   67285  2020-11-20 13:00:00   11.73   598.92  182.597561\n",
       "53996   67286  2020-11-20 14:00:00   11.73   598.92  182.597561\n",
       "\n",
       "[53997 rows x 5 columns]"
      ]
     },
     "execution_count": 15,
     "metadata": {},
     "output_type": "execute_result"
    }
   ],
   "source": [
    "# convert head_ft and assign to a new column, head_m\n",
    "df['head_m'] = df['head_ft']/3.28\n",
    "df"
   ]
  },
  {
   "cell_type": "markdown",
   "metadata": {},
   "source": [
    "# Now you try\n",
    "\n",
    "What is land surface elevation for the well we have been looking at? The calculation is actually easy. The head is the groundwater elevation above mean sea level. The depth to water is the groundwater elevation below land surface. Ergo, land surface elevation is the sum of depth to water and head. You can calculate this is a single line of code."
   ]
  },
  {
   "cell_type": "code",
   "execution_count": 17,
   "metadata": {},
   "outputs": [
    {
     "data": {
      "text/plain": [
       "610.65"
      ]
     },
     "execution_count": 17,
     "metadata": {},
     "output_type": "execute_result"
    }
   ],
   "source": [
    "# try this one on your own\n",
    "df['dtw_ft'][0]+df['head_ft'][0]"
   ]
  },
  {
   "cell_type": "markdown",
   "metadata": {},
   "source": [
    "<a id='Plotting'></a>\n",
    "\n",
    "\n",
    "\n",
    "# Module 2.1 Plotting Data with Pandas"
   ]
  },
  {
   "cell_type": "markdown",
   "metadata": {},
   "source": [
    "The next major thing that we want to do is visualize this data in a hydrograph, just like we did with the northeastern Illinois data in Module 1. Plotting data with Pandas is generally easy, let's give it a try!\n",
    "\n",
    "If you took a break after Module 2.0, go ahead and run this code block."
   ]
  },
  {
   "cell_type": "code",
   "execution_count": 18,
   "metadata": {},
   "outputs": [],
   "source": [
    "# import math\n",
    "import math\n",
    "# import pandas with alias pd\n",
    "import pandas as pd\n",
    "# import matplotlib as plt\n",
    "import matplotlib.pyplot as plt\n",
    "%matplotlib inline"
   ]
  },
  {
   "cell_type": "code",
   "execution_count": 19,
   "metadata": {},
   "outputs": [
    {
     "data": {
      "text/html": [
       "<div>\n",
       "<style scoped>\n",
       "    .dataframe tbody tr th:only-of-type {\n",
       "        vertical-align: middle;\n",
       "    }\n",
       "\n",
       "    .dataframe tbody tr th {\n",
       "        vertical-align: top;\n",
       "    }\n",
       "\n",
       "    .dataframe thead th {\n",
       "        text-align: right;\n",
       "    }\n",
       "</style>\n",
       "<table border=\"1\" class=\"dataframe\">\n",
       "  <thead>\n",
       "    <tr style=\"text-align: right;\">\n",
       "      <th></th>\n",
       "      <th>RECORD</th>\n",
       "      <th>TIMESTAMP</th>\n",
       "      <th>depth_to_water_from_land_surface</th>\n",
       "      <th>head</th>\n",
       "    </tr>\n",
       "  </thead>\n",
       "  <tbody>\n",
       "    <tr>\n",
       "      <th>0</th>\n",
       "      <td>0</td>\n",
       "      <td>2014-08-14 14:00:00</td>\n",
       "      <td>26.59</td>\n",
       "      <td>584.06</td>\n",
       "    </tr>\n",
       "    <tr>\n",
       "      <th>1</th>\n",
       "      <td>1</td>\n",
       "      <td>2014-08-14 15:00:00</td>\n",
       "      <td>26.58</td>\n",
       "      <td>584.07</td>\n",
       "    </tr>\n",
       "    <tr>\n",
       "      <th>2</th>\n",
       "      <td>2</td>\n",
       "      <td>2014-08-14 16:00:00</td>\n",
       "      <td>26.58</td>\n",
       "      <td>584.07</td>\n",
       "    </tr>\n",
       "    <tr>\n",
       "      <th>3</th>\n",
       "      <td>3</td>\n",
       "      <td>2014-08-14 17:00:00</td>\n",
       "      <td>26.59</td>\n",
       "      <td>584.06</td>\n",
       "    </tr>\n",
       "    <tr>\n",
       "      <th>4</th>\n",
       "      <td>4</td>\n",
       "      <td>2014-08-14 18:00:00</td>\n",
       "      <td>26.61</td>\n",
       "      <td>584.04</td>\n",
       "    </tr>\n",
       "    <tr>\n",
       "      <th>...</th>\n",
       "      <td>...</td>\n",
       "      <td>...</td>\n",
       "      <td>...</td>\n",
       "      <td>...</td>\n",
       "    </tr>\n",
       "    <tr>\n",
       "      <th>53992</th>\n",
       "      <td>67282</td>\n",
       "      <td>2020-11-20 10:00:00</td>\n",
       "      <td>11.73</td>\n",
       "      <td>598.92</td>\n",
       "    </tr>\n",
       "    <tr>\n",
       "      <th>53993</th>\n",
       "      <td>67283</td>\n",
       "      <td>2020-11-20 11:00:00</td>\n",
       "      <td>11.73</td>\n",
       "      <td>598.92</td>\n",
       "    </tr>\n",
       "    <tr>\n",
       "      <th>53994</th>\n",
       "      <td>67284</td>\n",
       "      <td>2020-11-20 12:00:00</td>\n",
       "      <td>11.73</td>\n",
       "      <td>598.92</td>\n",
       "    </tr>\n",
       "    <tr>\n",
       "      <th>53995</th>\n",
       "      <td>67285</td>\n",
       "      <td>2020-11-20 13:00:00</td>\n",
       "      <td>11.73</td>\n",
       "      <td>598.92</td>\n",
       "    </tr>\n",
       "    <tr>\n",
       "      <th>53996</th>\n",
       "      <td>67286</td>\n",
       "      <td>2020-11-20 14:00:00</td>\n",
       "      <td>11.73</td>\n",
       "      <td>598.92</td>\n",
       "    </tr>\n",
       "  </tbody>\n",
       "</table>\n",
       "<p>53997 rows × 4 columns</p>\n",
       "</div>"
      ],
      "text/plain": [
       "       RECORD            TIMESTAMP  depth_to_water_from_land_surface    head\n",
       "0           0  2014-08-14 14:00:00                             26.59  584.06\n",
       "1           1  2014-08-14 15:00:00                             26.58  584.07\n",
       "2           2  2014-08-14 16:00:00                             26.58  584.07\n",
       "3           3  2014-08-14 17:00:00                             26.59  584.06\n",
       "4           4  2014-08-14 18:00:00                             26.61  584.04\n",
       "...       ...                  ...                               ...     ...\n",
       "53992   67282  2020-11-20 10:00:00                             11.73  598.92\n",
       "53993   67283  2020-11-20 11:00:00                             11.73  598.92\n",
       "53994   67284  2020-11-20 12:00:00                             11.73  598.92\n",
       "53995   67285  2020-11-20 13:00:00                             11.73  598.92\n",
       "53996   67286  2020-11-20 14:00:00                             11.73  598.92\n",
       "\n",
       "[53997 rows x 4 columns]"
      ]
     },
     "execution_count": 19,
     "metadata": {},
     "output_type": "execute_result"
    }
   ],
   "source": [
    "wellhead = pd.read_csv('http://aqueduct.isws.illinois.edu/data/381651_HRY-91C_hyd.csv')\n",
    "wellhead"
   ]
  },
  {
   "cell_type": "markdown",
   "metadata": {},
   "source": [
    "Before plotting, let's talk a little about indices. These are effectively your row numbers, or at least, that's how this example starts out. The indices are the values in the first column, and can be used to help reference your data. You can also extract just the indices using `DataFrame.Index`"
   ]
  },
  {
   "cell_type": "code",
   "execution_count": 20,
   "metadata": {
    "scrolled": true
   },
   "outputs": [
    {
     "data": {
      "text/plain": [
       "RangeIndex(start=0, stop=53997, step=1)"
      ]
     },
     "execution_count": 20,
     "metadata": {},
     "output_type": "execute_result"
    }
   ],
   "source": [
    "#DataFrame.Index\n",
    "wellhead.index"
   ]
  },
  {
   "cell_type": "markdown",
   "metadata": {},
   "source": [
    "Plotting with a Pandas DataFrame or Series can be done by simpling using `DataFrame['columnname'].plot()`. When plotting this way, Python knows to plot the index on the x-axis and all other columns on the y-axis."
   ]
  },
  {
   "cell_type": "code",
   "execution_count": 21,
   "metadata": {},
   "outputs": [
    {
     "data": {
      "text/plain": [
       "<AxesSubplot:>"
      ]
     },
     "execution_count": 21,
     "metadata": {},
     "output_type": "execute_result"
    },
    {
     "data": {
      "image/png": "[encoded data removed]",
      "text/plain": [
       "<Figure size 432x288 with 1 Axes>"
      ]
     },
     "metadata": {
      "needs_background": "light"
     },
     "output_type": "display_data"
    }
   ],
   "source": [
    "wellhead['head'].plot()"
   ]
  },
  {
   "cell_type": "markdown",
   "metadata": {},
   "source": [
    "Neat. If you go to the original data, you will notice that this looks a lot like what is plotted. While a good start, we really want a useful x-axis. We don't really want to plot against the Index in this case, but rather the date and time. \n",
    "\n",
    "This short cut way of plotting with pandas (`DataFrame['columnname'].plot()`) is limiting, but we can try plotting like we did last week using matplotlib. "
   ]
  },
  {
   "cell_type": "code",
   "execution_count": 24,
   "metadata": {},
   "outputs": [
    {
     "data": {
      "text/plain": [
       "[<matplotlib.lines.Line2D at 0x1dbe4441670>]"
      ]
     },
     "execution_count": 24,
     "metadata": {},
     "output_type": "execute_result"
    },
    {
     "data": {
      "image/png": "[encoded data removed]",
      "text/plain": [
       "<Figure size 432x288 with 1 Axes>"
      ]
     },
     "metadata": {
      "needs_background": "light"
     },
     "output_type": "display_data"
    }
   ],
   "source": [
    "plt.plot(wellhead.index,wellhead['head'])"
   ]
  },
  {
   "cell_type": "markdown",
   "metadata": {},
   "source": [
    "The code was slow doing it that way; something doesn't seem right here. Let's try the same thing, but using the index rather than TIMESTAMP, since we know that works. "
   ]
  },
  {
   "cell_type": "code",
   "execution_count": 23,
   "metadata": {},
   "outputs": [
    {
     "data": {
      "text/plain": [
       "[<matplotlib.lines.Line2D at 0x1dbada23b80>]"
      ]
     },
     "execution_count": 23,
     "metadata": {},
     "output_type": "execute_result"
    },
    {
     "name": "stdout",
     "output_type": "stream",
     "text": [
      "Error in callback <function flush_figures at 0x000001DBACB82940> (for post_execute):\n"
     ]
    },
    {
     "ename": "KeyboardInterrupt",
     "evalue": "",
     "output_type": "error",
     "traceback": [
      "\u001b[1;31m---------------------------------------------------------------------------\u001b[0m",
      "\u001b[1;31mKeyboardInterrupt\u001b[0m                         Traceback (most recent call last)",
      "\u001b[1;32m~\\Anaconda3\\lib\\site-packages\\ipykernel\\pylab\\backend_inline.py\u001b[0m in \u001b[0;36mflush_figures\u001b[1;34m()\u001b[0m\n\u001b[0;32m    119\u001b[0m         \u001b[1;31m# ignore the tracking, just draw and close all figures\u001b[0m\u001b[1;33m\u001b[0m\u001b[1;33m\u001b[0m\u001b[1;33m\u001b[0m\u001b[0m\n\u001b[0;32m    120\u001b[0m         \u001b[1;32mtry\u001b[0m\u001b[1;33m:\u001b[0m\u001b[1;33m\u001b[0m\u001b[1;33m\u001b[0m\u001b[0m\n\u001b[1;32m--> 121\u001b[1;33m             \u001b[1;32mreturn\u001b[0m \u001b[0mshow\u001b[0m\u001b[1;33m(\u001b[0m\u001b[1;32mTrue\u001b[0m\u001b[1;33m)\u001b[0m\u001b[1;33m\u001b[0m\u001b[1;33m\u001b[0m\u001b[0m\n\u001b[0m\u001b[0;32m    122\u001b[0m         \u001b[1;32mexcept\u001b[0m \u001b[0mException\u001b[0m \u001b[1;32mas\u001b[0m \u001b[0me\u001b[0m\u001b[1;33m:\u001b[0m\u001b[1;33m\u001b[0m\u001b[1;33m\u001b[0m\u001b[0m\n\u001b[0;32m    123\u001b[0m             \u001b[1;31m# safely show traceback if in IPython, else raise\u001b[0m\u001b[1;33m\u001b[0m\u001b[1;33m\u001b[0m\u001b[1;33m\u001b[0m\u001b[0m\n",
      "\u001b[1;32m~\\Anaconda3\\lib\\site-packages\\ipykernel\\pylab\\backend_inline.py\u001b[0m in \u001b[0;36mshow\u001b[1;34m(close, block)\u001b[0m\n\u001b[0;32m     39\u001b[0m     \u001b[1;32mtry\u001b[0m\u001b[1;33m:\u001b[0m\u001b[1;33m\u001b[0m\u001b[1;33m\u001b[0m\u001b[0m\n\u001b[0;32m     40\u001b[0m         \u001b[1;32mfor\u001b[0m \u001b[0mfigure_manager\u001b[0m \u001b[1;32min\u001b[0m \u001b[0mGcf\u001b[0m\u001b[1;33m.\u001b[0m\u001b[0mget_all_fig_managers\u001b[0m\u001b[1;33m(\u001b[0m\u001b[1;33m)\u001b[0m\u001b[1;33m:\u001b[0m\u001b[1;33m\u001b[0m\u001b[1;33m\u001b[0m\u001b[0m\n\u001b[1;32m---> 41\u001b[1;33m             display(\n\u001b[0m\u001b[0;32m     42\u001b[0m                 \u001b[0mfigure_manager\u001b[0m\u001b[1;33m.\u001b[0m\u001b[0mcanvas\u001b[0m\u001b[1;33m.\u001b[0m\u001b[0mfigure\u001b[0m\u001b[1;33m,\u001b[0m\u001b[1;33m\u001b[0m\u001b[1;33m\u001b[0m\u001b[0m\n\u001b[0;32m     43\u001b[0m                 \u001b[0mmetadata\u001b[0m\u001b[1;33m=\u001b[0m\u001b[0m_fetch_figure_metadata\u001b[0m\u001b[1;33m(\u001b[0m\u001b[0mfigure_manager\u001b[0m\u001b[1;33m.\u001b[0m\u001b[0mcanvas\u001b[0m\u001b[1;33m.\u001b[0m\u001b[0mfigure\u001b[0m\u001b[1;33m)\u001b[0m\u001b[1;33m\u001b[0m\u001b[1;33m\u001b[0m\u001b[0m\n",
      "\u001b[1;32m~\\Anaconda3\\lib\\site-packages\\IPython\\core\\display.py\u001b[0m in \u001b[0;36mdisplay\u001b[1;34m(include, exclude, metadata, transient, display_id, *objs, **kwargs)\u001b[0m\n\u001b[0;32m    311\u001b[0m             \u001b[0mpublish_display_data\u001b[0m\u001b[1;33m(\u001b[0m\u001b[0mdata\u001b[0m\u001b[1;33m=\u001b[0m\u001b[0mobj\u001b[0m\u001b[1;33m,\u001b[0m \u001b[0mmetadata\u001b[0m\u001b[1;33m=\u001b[0m\u001b[0mmetadata\u001b[0m\u001b[1;33m,\u001b[0m \u001b[1;33m**\u001b[0m\u001b[0mkwargs\u001b[0m\u001b[1;33m)\u001b[0m\u001b[1;33m\u001b[0m\u001b[1;33m\u001b[0m\u001b[0m\n\u001b[0;32m    312\u001b[0m         \u001b[1;32melse\u001b[0m\u001b[1;33m:\u001b[0m\u001b[1;33m\u001b[0m\u001b[1;33m\u001b[0m\u001b[0m\n\u001b[1;32m--> 313\u001b[1;33m             \u001b[0mformat_dict\u001b[0m\u001b[1;33m,\u001b[0m \u001b[0mmd_dict\u001b[0m \u001b[1;33m=\u001b[0m \u001b[0mformat\u001b[0m\u001b[1;33m(\u001b[0m\u001b[0mobj\u001b[0m\u001b[1;33m,\u001b[0m \u001b[0minclude\u001b[0m\u001b[1;33m=\u001b[0m\u001b[0minclude\u001b[0m\u001b[1;33m,\u001b[0m \u001b[0mexclude\u001b[0m\u001b[1;33m=\u001b[0m\u001b[0mexclude\u001b[0m\u001b[1;33m)\u001b[0m\u001b[1;33m\u001b[0m\u001b[1;33m\u001b[0m\u001b[0m\n\u001b[0m\u001b[0;32m    314\u001b[0m             \u001b[1;32mif\u001b[0m \u001b[1;32mnot\u001b[0m \u001b[0mformat_dict\u001b[0m\u001b[1;33m:\u001b[0m\u001b[1;33m\u001b[0m\u001b[1;33m\u001b[0m\u001b[0m\n\u001b[0;32m    315\u001b[0m                 \u001b[1;31m# nothing to display (e.g. _ipython_display_ took over)\u001b[0m\u001b[1;33m\u001b[0m\u001b[1;33m\u001b[0m\u001b[1;33m\u001b[0m\u001b[0m\n",
      "\u001b[1;32m~\\Anaconda3\\lib\\site-packages\\IPython\\core\\formatters.py\u001b[0m in \u001b[0;36mformat\u001b[1;34m(self, obj, include, exclude)\u001b[0m\n\u001b[0;32m    178\u001b[0m             \u001b[0mmd\u001b[0m \u001b[1;33m=\u001b[0m \u001b[1;32mNone\u001b[0m\u001b[1;33m\u001b[0m\u001b[1;33m\u001b[0m\u001b[0m\n\u001b[0;32m    179\u001b[0m             \u001b[1;32mtry\u001b[0m\u001b[1;33m:\u001b[0m\u001b[1;33m\u001b[0m\u001b[1;33m\u001b[0m\u001b[0m\n\u001b[1;32m--> 180\u001b[1;33m                 \u001b[0mdata\u001b[0m \u001b[1;33m=\u001b[0m \u001b[0mformatter\u001b[0m\u001b[1;33m(\u001b[0m\u001b[0mobj\u001b[0m\u001b[1;33m)\u001b[0m\u001b[1;33m\u001b[0m\u001b[1;33m\u001b[0m\u001b[0m\n\u001b[0m\u001b[0;32m    181\u001b[0m             \u001b[1;32mexcept\u001b[0m\u001b[1;33m:\u001b[0m\u001b[1;33m\u001b[0m\u001b[1;33m\u001b[0m\u001b[0m\n\u001b[0;32m    182\u001b[0m                 \u001b[1;31m# FIXME: log the exception\u001b[0m\u001b[1;33m\u001b[0m\u001b[1;33m\u001b[0m\u001b[1;33m\u001b[0m\u001b[0m\n",
      "\u001b[1;32m<decorator-gen-2>\u001b[0m in \u001b[0;36m__call__\u001b[1;34m(self, obj)\u001b[0m\n",
      "\u001b[1;32m~\\Anaconda3\\lib\\site-packages\\IPython\\core\\formatters.py\u001b[0m in \u001b[0;36mcatch_format_error\u001b[1;34m(method, self, *args, **kwargs)\u001b[0m\n\u001b[0;32m    222\u001b[0m     \u001b[1;34m\"\"\"show traceback on failed format call\"\"\"\u001b[0m\u001b[1;33m\u001b[0m\u001b[1;33m\u001b[0m\u001b[0m\n\u001b[0;32m    223\u001b[0m     \u001b[1;32mtry\u001b[0m\u001b[1;33m:\u001b[0m\u001b[1;33m\u001b[0m\u001b[1;33m\u001b[0m\u001b[0m\n\u001b[1;32m--> 224\u001b[1;33m         \u001b[0mr\u001b[0m \u001b[1;33m=\u001b[0m \u001b[0mmethod\u001b[0m\u001b[1;33m(\u001b[0m\u001b[0mself\u001b[0m\u001b[1;33m,\u001b[0m \u001b[1;33m*\u001b[0m\u001b[0margs\u001b[0m\u001b[1;33m,\u001b[0m \u001b[1;33m**\u001b[0m\u001b[0mkwargs\u001b[0m\u001b[1;33m)\u001b[0m\u001b[1;33m\u001b[0m\u001b[1;33m\u001b[0m\u001b[0m\n\u001b[0m\u001b[0;32m    225\u001b[0m     \u001b[1;32mexcept\u001b[0m \u001b[0mNotImplementedError\u001b[0m\u001b[1;33m:\u001b[0m\u001b[1;33m\u001b[0m\u001b[1;33m\u001b[0m\u001b[0m\n\u001b[0;32m    226\u001b[0m         \u001b[1;31m# don't warn on NotImplementedErrors\u001b[0m\u001b[1;33m\u001b[0m\u001b[1;33m\u001b[0m\u001b[1;33m\u001b[0m\u001b[0m\n",
      "\u001b[1;32m~\\Anaconda3\\lib\\site-packages\\IPython\\core\\formatters.py\u001b[0m in \u001b[0;36m__call__\u001b[1;34m(self, obj)\u001b[0m\n\u001b[0;32m    339\u001b[0m                 \u001b[1;32mpass\u001b[0m\u001b[1;33m\u001b[0m\u001b[1;33m\u001b[0m\u001b[0m\n\u001b[0;32m    340\u001b[0m             \u001b[1;32melse\u001b[0m\u001b[1;33m:\u001b[0m\u001b[1;33m\u001b[0m\u001b[1;33m\u001b[0m\u001b[0m\n\u001b[1;32m--> 341\u001b[1;33m                 \u001b[1;32mreturn\u001b[0m \u001b[0mprinter\u001b[0m\u001b[1;33m(\u001b[0m\u001b[0mobj\u001b[0m\u001b[1;33m)\u001b[0m\u001b[1;33m\u001b[0m\u001b[1;33m\u001b[0m\u001b[0m\n\u001b[0m\u001b[0;32m    342\u001b[0m             \u001b[1;31m# Finally look for special method names\u001b[0m\u001b[1;33m\u001b[0m\u001b[1;33m\u001b[0m\u001b[1;33m\u001b[0m\u001b[0m\n\u001b[0;32m    343\u001b[0m             \u001b[0mmethod\u001b[0m \u001b[1;33m=\u001b[0m \u001b[0mget_real_method\u001b[0m\u001b[1;33m(\u001b[0m\u001b[0mobj\u001b[0m\u001b[1;33m,\u001b[0m \u001b[0mself\u001b[0m\u001b[1;33m.\u001b[0m\u001b[0mprint_method\u001b[0m\u001b[1;33m)\u001b[0m\u001b[1;33m\u001b[0m\u001b[1;33m\u001b[0m\u001b[0m\n",
      "\u001b[1;32m~\\Anaconda3\\lib\\site-packages\\IPython\\core\\pylabtools.py\u001b[0m in \u001b[0;36m<lambda>\u001b[1;34m(fig)\u001b[0m\n\u001b[0;32m    246\u001b[0m \u001b[1;33m\u001b[0m\u001b[0m\n\u001b[0;32m    247\u001b[0m     \u001b[1;32mif\u001b[0m \u001b[1;34m'png'\u001b[0m \u001b[1;32min\u001b[0m \u001b[0mformats\u001b[0m\u001b[1;33m:\u001b[0m\u001b[1;33m\u001b[0m\u001b[1;33m\u001b[0m\u001b[0m\n\u001b[1;32m--> 248\u001b[1;33m         \u001b[0mpng_formatter\u001b[0m\u001b[1;33m.\u001b[0m\u001b[0mfor_type\u001b[0m\u001b[1;33m(\u001b[0m\u001b[0mFigure\u001b[0m\u001b[1;33m,\u001b[0m \u001b[1;32mlambda\u001b[0m \u001b[0mfig\u001b[0m\u001b[1;33m:\u001b[0m \u001b[0mprint_figure\u001b[0m\u001b[1;33m(\u001b[0m\u001b[0mfig\u001b[0m\u001b[1;33m,\u001b[0m \u001b[1;34m'png'\u001b[0m\u001b[1;33m,\u001b[0m \u001b[1;33m**\u001b[0m\u001b[0mkwargs\u001b[0m\u001b[1;33m)\u001b[0m\u001b[1;33m)\u001b[0m\u001b[1;33m\u001b[0m\u001b[1;33m\u001b[0m\u001b[0m\n\u001b[0m\u001b[0;32m    249\u001b[0m     \u001b[1;32mif\u001b[0m \u001b[1;34m'retina'\u001b[0m \u001b[1;32min\u001b[0m \u001b[0mformats\u001b[0m \u001b[1;32mor\u001b[0m \u001b[1;34m'png2x'\u001b[0m \u001b[1;32min\u001b[0m \u001b[0mformats\u001b[0m\u001b[1;33m:\u001b[0m\u001b[1;33m\u001b[0m\u001b[1;33m\u001b[0m\u001b[0m\n\u001b[0;32m    250\u001b[0m         \u001b[0mpng_formatter\u001b[0m\u001b[1;33m.\u001b[0m\u001b[0mfor_type\u001b[0m\u001b[1;33m(\u001b[0m\u001b[0mFigure\u001b[0m\u001b[1;33m,\u001b[0m \u001b[1;32mlambda\u001b[0m \u001b[0mfig\u001b[0m\u001b[1;33m:\u001b[0m \u001b[0mretina_figure\u001b[0m\u001b[1;33m(\u001b[0m\u001b[0mfig\u001b[0m\u001b[1;33m,\u001b[0m \u001b[1;33m**\u001b[0m\u001b[0mkwargs\u001b[0m\u001b[1;33m)\u001b[0m\u001b[1;33m)\u001b[0m\u001b[1;33m\u001b[0m\u001b[1;33m\u001b[0m\u001b[0m\n",
      "\u001b[1;32m~\\Anaconda3\\lib\\site-packages\\IPython\\core\\pylabtools.py\u001b[0m in \u001b[0;36mprint_figure\u001b[1;34m(fig, fmt, bbox_inches, **kwargs)\u001b[0m\n\u001b[0;32m    130\u001b[0m         \u001b[0mFigureCanvasBase\u001b[0m\u001b[1;33m(\u001b[0m\u001b[0mfig\u001b[0m\u001b[1;33m)\u001b[0m\u001b[1;33m\u001b[0m\u001b[1;33m\u001b[0m\u001b[0m\n\u001b[0;32m    131\u001b[0m \u001b[1;33m\u001b[0m\u001b[0m\n\u001b[1;32m--> 132\u001b[1;33m     \u001b[0mfig\u001b[0m\u001b[1;33m.\u001b[0m\u001b[0mcanvas\u001b[0m\u001b[1;33m.\u001b[0m\u001b[0mprint_figure\u001b[0m\u001b[1;33m(\u001b[0m\u001b[0mbytes_io\u001b[0m\u001b[1;33m,\u001b[0m \u001b[1;33m**\u001b[0m\u001b[0mkw\u001b[0m\u001b[1;33m)\u001b[0m\u001b[1;33m\u001b[0m\u001b[1;33m\u001b[0m\u001b[0m\n\u001b[0m\u001b[0;32m    133\u001b[0m     \u001b[0mdata\u001b[0m \u001b[1;33m=\u001b[0m \u001b[0mbytes_io\u001b[0m\u001b[1;33m.\u001b[0m\u001b[0mgetvalue\u001b[0m\u001b[1;33m(\u001b[0m\u001b[1;33m)\u001b[0m\u001b[1;33m\u001b[0m\u001b[1;33m\u001b[0m\u001b[0m\n\u001b[0;32m    134\u001b[0m     \u001b[1;32mif\u001b[0m \u001b[0mfmt\u001b[0m \u001b[1;33m==\u001b[0m \u001b[1;34m'svg'\u001b[0m\u001b[1;33m:\u001b[0m\u001b[1;33m\u001b[0m\u001b[1;33m\u001b[0m\u001b[0m\n",
      "\u001b[1;32m~\\Anaconda3\\lib\\site-packages\\matplotlib\\backend_bases.py\u001b[0m in \u001b[0;36mprint_figure\u001b[1;34m(self, filename, dpi, facecolor, edgecolor, orientation, format, bbox_inches, pad_inches, bbox_extra_artists, backend, **kwargs)\u001b[0m\n\u001b[0;32m   2191\u001b[0m                            else suppress())\n\u001b[0;32m   2192\u001b[0m                     \u001b[1;32mwith\u001b[0m \u001b[0mctx\u001b[0m\u001b[1;33m:\u001b[0m\u001b[1;33m\u001b[0m\u001b[1;33m\u001b[0m\u001b[0m\n\u001b[1;32m-> 2193\u001b[1;33m                         \u001b[0mself\u001b[0m\u001b[1;33m.\u001b[0m\u001b[0mfigure\u001b[0m\u001b[1;33m.\u001b[0m\u001b[0mdraw\u001b[0m\u001b[1;33m(\u001b[0m\u001b[0mrenderer\u001b[0m\u001b[1;33m)\u001b[0m\u001b[1;33m\u001b[0m\u001b[1;33m\u001b[0m\u001b[0m\n\u001b[0m\u001b[0;32m   2194\u001b[0m \u001b[1;33m\u001b[0m\u001b[0m\n\u001b[0;32m   2195\u001b[0m                     bbox_inches = self.figure.get_tightbbox(\n",
      "\u001b[1;32m~\\Anaconda3\\lib\\site-packages\\matplotlib\\artist.py\u001b[0m in \u001b[0;36mdraw_wrapper\u001b[1;34m(artist, renderer, *args, **kwargs)\u001b[0m\n\u001b[0;32m     39\u001b[0m                 \u001b[0mrenderer\u001b[0m\u001b[1;33m.\u001b[0m\u001b[0mstart_filter\u001b[0m\u001b[1;33m(\u001b[0m\u001b[1;33m)\u001b[0m\u001b[1;33m\u001b[0m\u001b[1;33m\u001b[0m\u001b[0m\n\u001b[0;32m     40\u001b[0m \u001b[1;33m\u001b[0m\u001b[0m\n\u001b[1;32m---> 41\u001b[1;33m             \u001b[1;32mreturn\u001b[0m \u001b[0mdraw\u001b[0m\u001b[1;33m(\u001b[0m\u001b[0martist\u001b[0m\u001b[1;33m,\u001b[0m \u001b[0mrenderer\u001b[0m\u001b[1;33m,\u001b[0m \u001b[1;33m*\u001b[0m\u001b[0margs\u001b[0m\u001b[1;33m,\u001b[0m \u001b[1;33m**\u001b[0m\u001b[0mkwargs\u001b[0m\u001b[1;33m)\u001b[0m\u001b[1;33m\u001b[0m\u001b[1;33m\u001b[0m\u001b[0m\n\u001b[0m\u001b[0;32m     42\u001b[0m         \u001b[1;32mfinally\u001b[0m\u001b[1;33m:\u001b[0m\u001b[1;33m\u001b[0m\u001b[1;33m\u001b[0m\u001b[0m\n\u001b[0;32m     43\u001b[0m             \u001b[1;32mif\u001b[0m \u001b[0martist\u001b[0m\u001b[1;33m.\u001b[0m\u001b[0mget_agg_filter\u001b[0m\u001b[1;33m(\u001b[0m\u001b[1;33m)\u001b[0m \u001b[1;32mis\u001b[0m \u001b[1;32mnot\u001b[0m \u001b[1;32mNone\u001b[0m\u001b[1;33m:\u001b[0m\u001b[1;33m\u001b[0m\u001b[1;33m\u001b[0m\u001b[0m\n",
      "\u001b[1;32m~\\Anaconda3\\lib\\site-packages\\matplotlib\\figure.py\u001b[0m in \u001b[0;36mdraw\u001b[1;34m(self, renderer)\u001b[0m\n\u001b[0;32m   1861\u001b[0m \u001b[1;33m\u001b[0m\u001b[0m\n\u001b[0;32m   1862\u001b[0m             \u001b[0mself\u001b[0m\u001b[1;33m.\u001b[0m\u001b[0mpatch\u001b[0m\u001b[1;33m.\u001b[0m\u001b[0mdraw\u001b[0m\u001b[1;33m(\u001b[0m\u001b[0mrenderer\u001b[0m\u001b[1;33m)\u001b[0m\u001b[1;33m\u001b[0m\u001b[1;33m\u001b[0m\u001b[0m\n\u001b[1;32m-> 1863\u001b[1;33m             mimage._draw_list_compositing_images(\n\u001b[0m\u001b[0;32m   1864\u001b[0m                 renderer, self, artists, self.suppressComposite)\n\u001b[0;32m   1865\u001b[0m \u001b[1;33m\u001b[0m\u001b[0m\n",
      "\u001b[1;32m~\\Anaconda3\\lib\\site-packages\\matplotlib\\image.py\u001b[0m in \u001b[0;36m_draw_list_compositing_images\u001b[1;34m(renderer, parent, artists, suppress_composite)\u001b[0m\n\u001b[0;32m    129\u001b[0m     \u001b[1;32mif\u001b[0m \u001b[0mnot_composite\u001b[0m \u001b[1;32mor\u001b[0m \u001b[1;32mnot\u001b[0m \u001b[0mhas_images\u001b[0m\u001b[1;33m:\u001b[0m\u001b[1;33m\u001b[0m\u001b[1;33m\u001b[0m\u001b[0m\n\u001b[0;32m    130\u001b[0m         \u001b[1;32mfor\u001b[0m \u001b[0ma\u001b[0m \u001b[1;32min\u001b[0m \u001b[0martists\u001b[0m\u001b[1;33m:\u001b[0m\u001b[1;33m\u001b[0m\u001b[1;33m\u001b[0m\u001b[0m\n\u001b[1;32m--> 131\u001b[1;33m             \u001b[0ma\u001b[0m\u001b[1;33m.\u001b[0m\u001b[0mdraw\u001b[0m\u001b[1;33m(\u001b[0m\u001b[0mrenderer\u001b[0m\u001b[1;33m)\u001b[0m\u001b[1;33m\u001b[0m\u001b[1;33m\u001b[0m\u001b[0m\n\u001b[0m\u001b[0;32m    132\u001b[0m     \u001b[1;32melse\u001b[0m\u001b[1;33m:\u001b[0m\u001b[1;33m\u001b[0m\u001b[1;33m\u001b[0m\u001b[0m\n\u001b[0;32m    133\u001b[0m         \u001b[1;31m# Composite any adjacent images together\u001b[0m\u001b[1;33m\u001b[0m\u001b[1;33m\u001b[0m\u001b[1;33m\u001b[0m\u001b[0m\n",
      "\u001b[1;32m~\\Anaconda3\\lib\\site-packages\\matplotlib\\artist.py\u001b[0m in \u001b[0;36mdraw_wrapper\u001b[1;34m(artist, renderer, *args, **kwargs)\u001b[0m\n\u001b[0;32m     39\u001b[0m                 \u001b[0mrenderer\u001b[0m\u001b[1;33m.\u001b[0m\u001b[0mstart_filter\u001b[0m\u001b[1;33m(\u001b[0m\u001b[1;33m)\u001b[0m\u001b[1;33m\u001b[0m\u001b[1;33m\u001b[0m\u001b[0m\n\u001b[0;32m     40\u001b[0m \u001b[1;33m\u001b[0m\u001b[0m\n\u001b[1;32m---> 41\u001b[1;33m             \u001b[1;32mreturn\u001b[0m \u001b[0mdraw\u001b[0m\u001b[1;33m(\u001b[0m\u001b[0martist\u001b[0m\u001b[1;33m,\u001b[0m \u001b[0mrenderer\u001b[0m\u001b[1;33m,\u001b[0m \u001b[1;33m*\u001b[0m\u001b[0margs\u001b[0m\u001b[1;33m,\u001b[0m \u001b[1;33m**\u001b[0m\u001b[0mkwargs\u001b[0m\u001b[1;33m)\u001b[0m\u001b[1;33m\u001b[0m\u001b[1;33m\u001b[0m\u001b[0m\n\u001b[0m\u001b[0;32m     42\u001b[0m         \u001b[1;32mfinally\u001b[0m\u001b[1;33m:\u001b[0m\u001b[1;33m\u001b[0m\u001b[1;33m\u001b[0m\u001b[0m\n\u001b[0;32m     43\u001b[0m             \u001b[1;32mif\u001b[0m \u001b[0martist\u001b[0m\u001b[1;33m.\u001b[0m\u001b[0mget_agg_filter\u001b[0m\u001b[1;33m(\u001b[0m\u001b[1;33m)\u001b[0m \u001b[1;32mis\u001b[0m \u001b[1;32mnot\u001b[0m \u001b[1;32mNone\u001b[0m\u001b[1;33m:\u001b[0m\u001b[1;33m\u001b[0m\u001b[1;33m\u001b[0m\u001b[0m\n",
      "\u001b[1;32m~\\Anaconda3\\lib\\site-packages\\matplotlib\\cbook\\deprecation.py\u001b[0m in \u001b[0;36mwrapper\u001b[1;34m(*inner_args, **inner_kwargs)\u001b[0m\n\u001b[0;32m    409\u001b[0m                          \u001b[1;32melse\u001b[0m \u001b[0mdeprecation_addendum\u001b[0m\u001b[1;33m,\u001b[0m\u001b[1;33m\u001b[0m\u001b[1;33m\u001b[0m\u001b[0m\n\u001b[0;32m    410\u001b[0m                 **kwargs)\n\u001b[1;32m--> 411\u001b[1;33m         \u001b[1;32mreturn\u001b[0m \u001b[0mfunc\u001b[0m\u001b[1;33m(\u001b[0m\u001b[1;33m*\u001b[0m\u001b[0minner_args\u001b[0m\u001b[1;33m,\u001b[0m \u001b[1;33m**\u001b[0m\u001b[0minner_kwargs\u001b[0m\u001b[1;33m)\u001b[0m\u001b[1;33m\u001b[0m\u001b[1;33m\u001b[0m\u001b[0m\n\u001b[0m\u001b[0;32m    412\u001b[0m \u001b[1;33m\u001b[0m\u001b[0m\n\u001b[0;32m    413\u001b[0m     \u001b[1;32mreturn\u001b[0m \u001b[0mwrapper\u001b[0m\u001b[1;33m\u001b[0m\u001b[1;33m\u001b[0m\u001b[0m\n",
      "\u001b[1;32m~\\Anaconda3\\lib\\site-packages\\matplotlib\\axes\\_base.py\u001b[0m in \u001b[0;36mdraw\u001b[1;34m(self, renderer, inframe)\u001b[0m\n\u001b[0;32m   2745\u001b[0m             \u001b[0mrenderer\u001b[0m\u001b[1;33m.\u001b[0m\u001b[0mstop_rasterizing\u001b[0m\u001b[1;33m(\u001b[0m\u001b[1;33m)\u001b[0m\u001b[1;33m\u001b[0m\u001b[1;33m\u001b[0m\u001b[0m\n\u001b[0;32m   2746\u001b[0m \u001b[1;33m\u001b[0m\u001b[0m\n\u001b[1;32m-> 2747\u001b[1;33m         \u001b[0mmimage\u001b[0m\u001b[1;33m.\u001b[0m\u001b[0m_draw_list_compositing_images\u001b[0m\u001b[1;33m(\u001b[0m\u001b[0mrenderer\u001b[0m\u001b[1;33m,\u001b[0m \u001b[0mself\u001b[0m\u001b[1;33m,\u001b[0m \u001b[0martists\u001b[0m\u001b[1;33m)\u001b[0m\u001b[1;33m\u001b[0m\u001b[1;33m\u001b[0m\u001b[0m\n\u001b[0m\u001b[0;32m   2748\u001b[0m \u001b[1;33m\u001b[0m\u001b[0m\n\u001b[0;32m   2749\u001b[0m         \u001b[0mrenderer\u001b[0m\u001b[1;33m.\u001b[0m\u001b[0mclose_group\u001b[0m\u001b[1;33m(\u001b[0m\u001b[1;34m'axes'\u001b[0m\u001b[1;33m)\u001b[0m\u001b[1;33m\u001b[0m\u001b[1;33m\u001b[0m\u001b[0m\n",
      "\u001b[1;32m~\\Anaconda3\\lib\\site-packages\\matplotlib\\image.py\u001b[0m in \u001b[0;36m_draw_list_compositing_images\u001b[1;34m(renderer, parent, artists, suppress_composite)\u001b[0m\n\u001b[0;32m    129\u001b[0m     \u001b[1;32mif\u001b[0m \u001b[0mnot_composite\u001b[0m \u001b[1;32mor\u001b[0m \u001b[1;32mnot\u001b[0m \u001b[0mhas_images\u001b[0m\u001b[1;33m:\u001b[0m\u001b[1;33m\u001b[0m\u001b[1;33m\u001b[0m\u001b[0m\n\u001b[0;32m    130\u001b[0m         \u001b[1;32mfor\u001b[0m \u001b[0ma\u001b[0m \u001b[1;32min\u001b[0m \u001b[0martists\u001b[0m\u001b[1;33m:\u001b[0m\u001b[1;33m\u001b[0m\u001b[1;33m\u001b[0m\u001b[0m\n\u001b[1;32m--> 131\u001b[1;33m             \u001b[0ma\u001b[0m\u001b[1;33m.\u001b[0m\u001b[0mdraw\u001b[0m\u001b[1;33m(\u001b[0m\u001b[0mrenderer\u001b[0m\u001b[1;33m)\u001b[0m\u001b[1;33m\u001b[0m\u001b[1;33m\u001b[0m\u001b[0m\n\u001b[0m\u001b[0;32m    132\u001b[0m     \u001b[1;32melse\u001b[0m\u001b[1;33m:\u001b[0m\u001b[1;33m\u001b[0m\u001b[1;33m\u001b[0m\u001b[0m\n\u001b[0;32m    133\u001b[0m         \u001b[1;31m# Composite any adjacent images together\u001b[0m\u001b[1;33m\u001b[0m\u001b[1;33m\u001b[0m\u001b[1;33m\u001b[0m\u001b[0m\n",
      "\u001b[1;32m~\\Anaconda3\\lib\\site-packages\\matplotlib\\artist.py\u001b[0m in \u001b[0;36mdraw_wrapper\u001b[1;34m(artist, renderer, *args, **kwargs)\u001b[0m\n\u001b[0;32m     39\u001b[0m                 \u001b[0mrenderer\u001b[0m\u001b[1;33m.\u001b[0m\u001b[0mstart_filter\u001b[0m\u001b[1;33m(\u001b[0m\u001b[1;33m)\u001b[0m\u001b[1;33m\u001b[0m\u001b[1;33m\u001b[0m\u001b[0m\n\u001b[0;32m     40\u001b[0m \u001b[1;33m\u001b[0m\u001b[0m\n\u001b[1;32m---> 41\u001b[1;33m             \u001b[1;32mreturn\u001b[0m \u001b[0mdraw\u001b[0m\u001b[1;33m(\u001b[0m\u001b[0martist\u001b[0m\u001b[1;33m,\u001b[0m \u001b[0mrenderer\u001b[0m\u001b[1;33m,\u001b[0m \u001b[1;33m*\u001b[0m\u001b[0margs\u001b[0m\u001b[1;33m,\u001b[0m \u001b[1;33m**\u001b[0m\u001b[0mkwargs\u001b[0m\u001b[1;33m)\u001b[0m\u001b[1;33m\u001b[0m\u001b[1;33m\u001b[0m\u001b[0m\n\u001b[0m\u001b[0;32m     42\u001b[0m         \u001b[1;32mfinally\u001b[0m\u001b[1;33m:\u001b[0m\u001b[1;33m\u001b[0m\u001b[1;33m\u001b[0m\u001b[0m\n\u001b[0;32m     43\u001b[0m             \u001b[1;32mif\u001b[0m \u001b[0martist\u001b[0m\u001b[1;33m.\u001b[0m\u001b[0mget_agg_filter\u001b[0m\u001b[1;33m(\u001b[0m\u001b[1;33m)\u001b[0m \u001b[1;32mis\u001b[0m \u001b[1;32mnot\u001b[0m \u001b[1;32mNone\u001b[0m\u001b[1;33m:\u001b[0m\u001b[1;33m\u001b[0m\u001b[1;33m\u001b[0m\u001b[0m\n",
      "\u001b[1;32m~\\Anaconda3\\lib\\site-packages\\matplotlib\\axis.py\u001b[0m in \u001b[0;36mdraw\u001b[1;34m(self, renderer, *args, **kwargs)\u001b[0m\n\u001b[0;32m   1163\u001b[0m \u001b[1;33m\u001b[0m\u001b[0m\n\u001b[0;32m   1164\u001b[0m         \u001b[0mticks_to_draw\u001b[0m \u001b[1;33m=\u001b[0m \u001b[0mself\u001b[0m\u001b[1;33m.\u001b[0m\u001b[0m_update_ticks\u001b[0m\u001b[1;33m(\u001b[0m\u001b[1;33m)\u001b[0m\u001b[1;33m\u001b[0m\u001b[1;33m\u001b[0m\u001b[0m\n\u001b[1;32m-> 1165\u001b[1;33m         ticklabelBoxes, ticklabelBoxes2 = self._get_tick_bboxes(ticks_to_draw,\n\u001b[0m\u001b[0;32m   1166\u001b[0m                                                                 renderer)\n\u001b[0;32m   1167\u001b[0m \u001b[1;33m\u001b[0m\u001b[0m\n",
      "\u001b[1;32m~\\Anaconda3\\lib\\site-packages\\matplotlib\\axis.py\u001b[0m in \u001b[0;36m_get_tick_bboxes\u001b[1;34m(self, ticks, renderer)\u001b[0m\n\u001b[0;32m   1089\u001b[0m     \u001b[1;32mdef\u001b[0m \u001b[0m_get_tick_bboxes\u001b[0m\u001b[1;33m(\u001b[0m\u001b[0mself\u001b[0m\u001b[1;33m,\u001b[0m \u001b[0mticks\u001b[0m\u001b[1;33m,\u001b[0m \u001b[0mrenderer\u001b[0m\u001b[1;33m)\u001b[0m\u001b[1;33m:\u001b[0m\u001b[1;33m\u001b[0m\u001b[1;33m\u001b[0m\u001b[0m\n\u001b[0;32m   1090\u001b[0m         \u001b[1;34m\"\"\"Return lists of bboxes for ticks' label1's and label2's.\"\"\"\u001b[0m\u001b[1;33m\u001b[0m\u001b[1;33m\u001b[0m\u001b[0m\n\u001b[1;32m-> 1091\u001b[1;33m         return ([tick.label1.get_window_extent(renderer)\n\u001b[0m\u001b[0;32m   1092\u001b[0m                  for tick in ticks if tick.label1.get_visible()],\n\u001b[0;32m   1093\u001b[0m                 [tick.label2.get_window_extent(renderer)\n",
      "\u001b[1;32m~\\Anaconda3\\lib\\site-packages\\matplotlib\\axis.py\u001b[0m in \u001b[0;36m<listcomp>\u001b[1;34m(.0)\u001b[0m\n\u001b[0;32m   1089\u001b[0m     \u001b[1;32mdef\u001b[0m \u001b[0m_get_tick_bboxes\u001b[0m\u001b[1;33m(\u001b[0m\u001b[0mself\u001b[0m\u001b[1;33m,\u001b[0m \u001b[0mticks\u001b[0m\u001b[1;33m,\u001b[0m \u001b[0mrenderer\u001b[0m\u001b[1;33m)\u001b[0m\u001b[1;33m:\u001b[0m\u001b[1;33m\u001b[0m\u001b[1;33m\u001b[0m\u001b[0m\n\u001b[0;32m   1090\u001b[0m         \u001b[1;34m\"\"\"Return lists of bboxes for ticks' label1's and label2's.\"\"\"\u001b[0m\u001b[1;33m\u001b[0m\u001b[1;33m\u001b[0m\u001b[0m\n\u001b[1;32m-> 1091\u001b[1;33m         return ([tick.label1.get_window_extent(renderer)\n\u001b[0m\u001b[0;32m   1092\u001b[0m                  for tick in ticks if tick.label1.get_visible()],\n\u001b[0;32m   1093\u001b[0m                 [tick.label2.get_window_extent(renderer)\n",
      "\u001b[1;32m~\\Anaconda3\\lib\\site-packages\\matplotlib\\text.py\u001b[0m in \u001b[0;36mget_window_extent\u001b[1;34m(self, renderer, dpi)\u001b[0m\n\u001b[0;32m    898\u001b[0m \u001b[1;33m\u001b[0m\u001b[0m\n\u001b[0;32m    899\u001b[0m         \u001b[1;32mwith\u001b[0m \u001b[0mcbook\u001b[0m\u001b[1;33m.\u001b[0m\u001b[0m_setattr_cm\u001b[0m\u001b[1;33m(\u001b[0m\u001b[0mself\u001b[0m\u001b[1;33m.\u001b[0m\u001b[0mfigure\u001b[0m\u001b[1;33m,\u001b[0m \u001b[0mdpi\u001b[0m\u001b[1;33m=\u001b[0m\u001b[0mdpi\u001b[0m\u001b[1;33m)\u001b[0m\u001b[1;33m:\u001b[0m\u001b[1;33m\u001b[0m\u001b[1;33m\u001b[0m\u001b[0m\n\u001b[1;32m--> 900\u001b[1;33m             \u001b[0mbbox\u001b[0m\u001b[1;33m,\u001b[0m \u001b[0minfo\u001b[0m\u001b[1;33m,\u001b[0m \u001b[0mdescent\u001b[0m \u001b[1;33m=\u001b[0m \u001b[0mself\u001b[0m\u001b[1;33m.\u001b[0m\u001b[0m_get_layout\u001b[0m\u001b[1;33m(\u001b[0m\u001b[0mself\u001b[0m\u001b[1;33m.\u001b[0m\u001b[0m_renderer\u001b[0m\u001b[1;33m)\u001b[0m\u001b[1;33m\u001b[0m\u001b[1;33m\u001b[0m\u001b[0m\n\u001b[0m\u001b[0;32m    901\u001b[0m             \u001b[0mx\u001b[0m\u001b[1;33m,\u001b[0m \u001b[0my\u001b[0m \u001b[1;33m=\u001b[0m \u001b[0mself\u001b[0m\u001b[1;33m.\u001b[0m\u001b[0mget_unitless_position\u001b[0m\u001b[1;33m(\u001b[0m\u001b[1;33m)\u001b[0m\u001b[1;33m\u001b[0m\u001b[1;33m\u001b[0m\u001b[0m\n\u001b[0;32m    902\u001b[0m             \u001b[0mx\u001b[0m\u001b[1;33m,\u001b[0m \u001b[0my\u001b[0m \u001b[1;33m=\u001b[0m \u001b[0mself\u001b[0m\u001b[1;33m.\u001b[0m\u001b[0mget_transform\u001b[0m\u001b[1;33m(\u001b[0m\u001b[1;33m)\u001b[0m\u001b[1;33m.\u001b[0m\u001b[0mtransform\u001b[0m\u001b[1;33m(\u001b[0m\u001b[1;33m(\u001b[0m\u001b[0mx\u001b[0m\u001b[1;33m,\u001b[0m \u001b[0my\u001b[0m\u001b[1;33m)\u001b[0m\u001b[1;33m)\u001b[0m\u001b[1;33m\u001b[0m\u001b[1;33m\u001b[0m\u001b[0m\n",
      "\u001b[1;32m~\\Anaconda3\\lib\\site-packages\\matplotlib\\text.py\u001b[0m in \u001b[0;36m_get_layout\u001b[1;34m(self, renderer)\u001b[0m\n\u001b[0;32m    291\u001b[0m             \u001b[0mclean_line\u001b[0m\u001b[1;33m,\u001b[0m \u001b[0mismath\u001b[0m \u001b[1;33m=\u001b[0m \u001b[0mself\u001b[0m\u001b[1;33m.\u001b[0m\u001b[0m_preprocess_math\u001b[0m\u001b[1;33m(\u001b[0m\u001b[0mline\u001b[0m\u001b[1;33m)\u001b[0m\u001b[1;33m\u001b[0m\u001b[1;33m\u001b[0m\u001b[0m\n\u001b[0;32m    292\u001b[0m             \u001b[1;32mif\u001b[0m \u001b[0mclean_line\u001b[0m\u001b[1;33m:\u001b[0m\u001b[1;33m\u001b[0m\u001b[1;33m\u001b[0m\u001b[0m\n\u001b[1;32m--> 293\u001b[1;33m                 w, h, d = renderer.get_text_width_height_descent(\n\u001b[0m\u001b[0;32m    294\u001b[0m                     clean_line, self._fontproperties, ismath=ismath)\n\u001b[0;32m    295\u001b[0m             \u001b[1;32melse\u001b[0m\u001b[1;33m:\u001b[0m\u001b[1;33m\u001b[0m\u001b[1;33m\u001b[0m\u001b[0m\n",
      "\u001b[1;32m~\\Anaconda3\\lib\\site-packages\\matplotlib\\backends\\backend_agg.py\u001b[0m in \u001b[0;36mget_text_width_height_descent\u001b[1;34m(self, s, prop, ismath)\u001b[0m\n\u001b[0;32m    235\u001b[0m \u001b[1;33m\u001b[0m\u001b[0m\n\u001b[0;32m    236\u001b[0m         \u001b[0mflags\u001b[0m \u001b[1;33m=\u001b[0m \u001b[0mget_hinting_flag\u001b[0m\u001b[1;33m(\u001b[0m\u001b[1;33m)\u001b[0m\u001b[1;33m\u001b[0m\u001b[1;33m\u001b[0m\u001b[0m\n\u001b[1;32m--> 237\u001b[1;33m         \u001b[0mfont\u001b[0m \u001b[1;33m=\u001b[0m \u001b[0mself\u001b[0m\u001b[1;33m.\u001b[0m\u001b[0m_get_agg_font\u001b[0m\u001b[1;33m(\u001b[0m\u001b[0mprop\u001b[0m\u001b[1;33m)\u001b[0m\u001b[1;33m\u001b[0m\u001b[1;33m\u001b[0m\u001b[0m\n\u001b[0m\u001b[0;32m    238\u001b[0m         \u001b[0mfont\u001b[0m\u001b[1;33m.\u001b[0m\u001b[0mset_text\u001b[0m\u001b[1;33m(\u001b[0m\u001b[0ms\u001b[0m\u001b[1;33m,\u001b[0m \u001b[1;36m0.0\u001b[0m\u001b[1;33m,\u001b[0m \u001b[0mflags\u001b[0m\u001b[1;33m=\u001b[0m\u001b[0mflags\u001b[0m\u001b[1;33m)\u001b[0m\u001b[1;33m\u001b[0m\u001b[1;33m\u001b[0m\u001b[0m\n\u001b[0;32m    239\u001b[0m         \u001b[0mw\u001b[0m\u001b[1;33m,\u001b[0m \u001b[0mh\u001b[0m \u001b[1;33m=\u001b[0m \u001b[0mfont\u001b[0m\u001b[1;33m.\u001b[0m\u001b[0mget_width_height\u001b[0m\u001b[1;33m(\u001b[0m\u001b[1;33m)\u001b[0m  \u001b[1;31m# width and height of unrotated string\u001b[0m\u001b[1;33m\u001b[0m\u001b[1;33m\u001b[0m\u001b[0m\n",
      "\u001b[1;32m~\\Anaconda3\\lib\\site-packages\\matplotlib\\backends\\backend_agg.py\u001b[0m in \u001b[0;36m_get_agg_font\u001b[1;34m(self, prop)\u001b[0m\n\u001b[0;32m    270\u001b[0m         \u001b[0mGet\u001b[0m \u001b[0mthe\u001b[0m \u001b[0mfont\u001b[0m \u001b[1;32mfor\u001b[0m \u001b[0mtext\u001b[0m \u001b[0minstance\u001b[0m \u001b[0mt\u001b[0m\u001b[1;33m,\u001b[0m \u001b[0mcaching\u001b[0m \u001b[1;32mfor\u001b[0m \u001b[0mefficiency\u001b[0m\u001b[1;33m\u001b[0m\u001b[1;33m\u001b[0m\u001b[0m\n\u001b[0;32m    271\u001b[0m         \"\"\"\n\u001b[1;32m--> 272\u001b[1;33m         \u001b[0mfname\u001b[0m \u001b[1;33m=\u001b[0m \u001b[0mfindfont\u001b[0m\u001b[1;33m(\u001b[0m\u001b[0mprop\u001b[0m\u001b[1;33m)\u001b[0m\u001b[1;33m\u001b[0m\u001b[1;33m\u001b[0m\u001b[0m\n\u001b[0m\u001b[0;32m    273\u001b[0m         \u001b[0mfont\u001b[0m \u001b[1;33m=\u001b[0m \u001b[0mget_font\u001b[0m\u001b[1;33m(\u001b[0m\u001b[0mfname\u001b[0m\u001b[1;33m)\u001b[0m\u001b[1;33m\u001b[0m\u001b[1;33m\u001b[0m\u001b[0m\n\u001b[0;32m    274\u001b[0m \u001b[1;33m\u001b[0m\u001b[0m\n",
      "\u001b[1;32m~\\Anaconda3\\lib\\site-packages\\matplotlib\\font_manager.py\u001b[0m in \u001b[0;36mfindfont\u001b[1;34m(self, prop, fontext, directory, fallback_to_default, rebuild_if_missing)\u001b[0m\n\u001b[0;32m   1312\u001b[0m             \u001b[0mprop\u001b[0m\u001b[1;33m,\u001b[0m \u001b[0mfontext\u001b[0m\u001b[1;33m,\u001b[0m \u001b[0mdirectory\u001b[0m\u001b[1;33m,\u001b[0m \u001b[0mfallback_to_default\u001b[0m\u001b[1;33m,\u001b[0m \u001b[0mrebuild_if_missing\u001b[0m\u001b[1;33m,\u001b[0m\u001b[1;33m\u001b[0m\u001b[1;33m\u001b[0m\u001b[0m\n\u001b[0;32m   1313\u001b[0m             rc_params)\n\u001b[1;32m-> 1314\u001b[1;33m         \u001b[1;32mreturn\u001b[0m \u001b[0mos\u001b[0m\u001b[1;33m.\u001b[0m\u001b[0mpath\u001b[0m\u001b[1;33m.\u001b[0m\u001b[0mrealpath\u001b[0m\u001b[1;33m(\u001b[0m\u001b[0mfilename\u001b[0m\u001b[1;33m)\u001b[0m\u001b[1;33m\u001b[0m\u001b[1;33m\u001b[0m\u001b[0m\n\u001b[0m\u001b[0;32m   1315\u001b[0m \u001b[1;33m\u001b[0m\u001b[0m\n\u001b[0;32m   1316\u001b[0m     \u001b[1;33m@\u001b[0m\u001b[0mlru_cache\u001b[0m\u001b[1;33m(\u001b[0m\u001b[1;33m)\u001b[0m\u001b[1;33m\u001b[0m\u001b[1;33m\u001b[0m\u001b[0m\n",
      "\u001b[1;32m~\\Anaconda3\\lib\\ntpath.py\u001b[0m in \u001b[0;36mrealpath\u001b[1;34m(path)\u001b[0m\n\u001b[0;32m    645\u001b[0m             \u001b[0mpath\u001b[0m \u001b[1;33m=\u001b[0m \u001b[0mjoin\u001b[0m\u001b[1;33m(\u001b[0m\u001b[0mcwd\u001b[0m\u001b[1;33m,\u001b[0m \u001b[0mpath\u001b[0m\u001b[1;33m)\u001b[0m\u001b[1;33m\u001b[0m\u001b[1;33m\u001b[0m\u001b[0m\n\u001b[0;32m    646\u001b[0m         \u001b[1;32mtry\u001b[0m\u001b[1;33m:\u001b[0m\u001b[1;33m\u001b[0m\u001b[1;33m\u001b[0m\u001b[0m\n\u001b[1;32m--> 647\u001b[1;33m             \u001b[0mpath\u001b[0m \u001b[1;33m=\u001b[0m \u001b[0m_getfinalpathname\u001b[0m\u001b[1;33m(\u001b[0m\u001b[0mpath\u001b[0m\u001b[1;33m)\u001b[0m\u001b[1;33m\u001b[0m\u001b[1;33m\u001b[0m\u001b[0m\n\u001b[0m\u001b[0;32m    648\u001b[0m             \u001b[0minitial_winerror\u001b[0m \u001b[1;33m=\u001b[0m \u001b[1;36m0\u001b[0m\u001b[1;33m\u001b[0m\u001b[1;33m\u001b[0m\u001b[0m\n\u001b[0;32m    649\u001b[0m         \u001b[1;32mexcept\u001b[0m \u001b[0mOSError\u001b[0m \u001b[1;32mas\u001b[0m \u001b[0mex\u001b[0m\u001b[1;33m:\u001b[0m\u001b[1;33m\u001b[0m\u001b[1;33m\u001b[0m\u001b[0m\n",
      "\u001b[1;31mKeyboardInterrupt\u001b[0m: "
     ]
    }
   ],
   "source": [
    "plt.plot(wellhead['TIMESTAMP'],wellhead['head'])"
   ]
  },
  {
   "cell_type": "markdown",
   "metadata": {},
   "source": [
    "That worked, so we know we are doing some things correct, but Matplotlib is unhappy because the DateTime is a text string. Luckily, there is a little trick. Let's change the format of the date and time. Python/Pandas has a specific datatype for this called `Timestamp`. While this can get complicated to convert, this example is easy using the function `pd.to_datetime()`."
   ]
  },
  {
   "cell_type": "code",
   "execution_count": 26,
   "metadata": {},
   "outputs": [
    {
     "data": {
      "text/html": [
       "<div>\n",
       "<style scoped>\n",
       "    .dataframe tbody tr th:only-of-type {\n",
       "        vertical-align: middle;\n",
       "    }\n",
       "\n",
       "    .dataframe tbody tr th {\n",
       "        vertical-align: top;\n",
       "    }\n",
       "\n",
       "    .dataframe thead th {\n",
       "        text-align: right;\n",
       "    }\n",
       "</style>\n",
       "<table border=\"1\" class=\"dataframe\">\n",
       "  <thead>\n",
       "    <tr style=\"text-align: right;\">\n",
       "      <th></th>\n",
       "      <th>RECORD</th>\n",
       "      <th>TIMESTAMP</th>\n",
       "      <th>depth_to_water_from_land_surface</th>\n",
       "      <th>head</th>\n",
       "    </tr>\n",
       "  </thead>\n",
       "  <tbody>\n",
       "    <tr>\n",
       "      <th>0</th>\n",
       "      <td>0</td>\n",
       "      <td>2014-08-14 14:00:00</td>\n",
       "      <td>26.59</td>\n",
       "      <td>584.06</td>\n",
       "    </tr>\n",
       "    <tr>\n",
       "      <th>1</th>\n",
       "      <td>1</td>\n",
       "      <td>2014-08-14 15:00:00</td>\n",
       "      <td>26.58</td>\n",
       "      <td>584.07</td>\n",
       "    </tr>\n",
       "    <tr>\n",
       "      <th>2</th>\n",
       "      <td>2</td>\n",
       "      <td>2014-08-14 16:00:00</td>\n",
       "      <td>26.58</td>\n",
       "      <td>584.07</td>\n",
       "    </tr>\n",
       "    <tr>\n",
       "      <th>3</th>\n",
       "      <td>3</td>\n",
       "      <td>2014-08-14 17:00:00</td>\n",
       "      <td>26.59</td>\n",
       "      <td>584.06</td>\n",
       "    </tr>\n",
       "    <tr>\n",
       "      <th>4</th>\n",
       "      <td>4</td>\n",
       "      <td>2014-08-14 18:00:00</td>\n",
       "      <td>26.61</td>\n",
       "      <td>584.04</td>\n",
       "    </tr>\n",
       "    <tr>\n",
       "      <th>...</th>\n",
       "      <td>...</td>\n",
       "      <td>...</td>\n",
       "      <td>...</td>\n",
       "      <td>...</td>\n",
       "    </tr>\n",
       "    <tr>\n",
       "      <th>53992</th>\n",
       "      <td>67282</td>\n",
       "      <td>2020-11-20 10:00:00</td>\n",
       "      <td>11.73</td>\n",
       "      <td>598.92</td>\n",
       "    </tr>\n",
       "    <tr>\n",
       "      <th>53993</th>\n",
       "      <td>67283</td>\n",
       "      <td>2020-11-20 11:00:00</td>\n",
       "      <td>11.73</td>\n",
       "      <td>598.92</td>\n",
       "    </tr>\n",
       "    <tr>\n",
       "      <th>53994</th>\n",
       "      <td>67284</td>\n",
       "      <td>2020-11-20 12:00:00</td>\n",
       "      <td>11.73</td>\n",
       "      <td>598.92</td>\n",
       "    </tr>\n",
       "    <tr>\n",
       "      <th>53995</th>\n",
       "      <td>67285</td>\n",
       "      <td>2020-11-20 13:00:00</td>\n",
       "      <td>11.73</td>\n",
       "      <td>598.92</td>\n",
       "    </tr>\n",
       "    <tr>\n",
       "      <th>53996</th>\n",
       "      <td>67286</td>\n",
       "      <td>2020-11-20 14:00:00</td>\n",
       "      <td>11.73</td>\n",
       "      <td>598.92</td>\n",
       "    </tr>\n",
       "  </tbody>\n",
       "</table>\n",
       "<p>53997 rows × 4 columns</p>\n",
       "</div>"
      ],
      "text/plain": [
       "       RECORD           TIMESTAMP  depth_to_water_from_land_surface    head\n",
       "0           0 2014-08-14 14:00:00                             26.59  584.06\n",
       "1           1 2014-08-14 15:00:00                             26.58  584.07\n",
       "2           2 2014-08-14 16:00:00                             26.58  584.07\n",
       "3           3 2014-08-14 17:00:00                             26.59  584.06\n",
       "4           4 2014-08-14 18:00:00                             26.61  584.04\n",
       "...       ...                 ...                               ...     ...\n",
       "53992   67282 2020-11-20 10:00:00                             11.73  598.92\n",
       "53993   67283 2020-11-20 11:00:00                             11.73  598.92\n",
       "53994   67284 2020-11-20 12:00:00                             11.73  598.92\n",
       "53995   67285 2020-11-20 13:00:00                             11.73  598.92\n",
       "53996   67286 2020-11-20 14:00:00                             11.73  598.92\n",
       "\n",
       "[53997 rows x 4 columns]"
      ]
     },
     "execution_count": 26,
     "metadata": {},
     "output_type": "execute_result"
    }
   ],
   "source": [
    "wellhead['TIMESTAMP'] = pd.to_datetime(wellhead['TIMESTAMP'])\n",
    "wellhead"
   ]
  },
  {
   "cell_type": "markdown",
   "metadata": {},
   "source": [
    "You'll notice that the output is very similar to what we have already seen. Pretty boring, right? Well, before anything else, let's just try plotting again. "
   ]
  },
  {
   "cell_type": "code",
   "execution_count": 27,
   "metadata": {
    "scrolled": true
   },
   "outputs": [
    {
     "data": {
      "text/plain": [
       "[<matplotlib.lines.Line2D at 0x1dbe46a97f0>]"
      ]
     },
     "execution_count": 27,
     "metadata": {},
     "output_type": "execute_result"
    },
    {
     "data": {
      "image/png": "[encoded data removed]",
      "text/plain": [
       "<Figure size 432x288 with 1 Axes>"
      ]
     },
     "metadata": {
      "needs_background": "light"
     },
     "output_type": "display_data"
    }
   ],
   "source": [
    "plt.plot(wellhead['TIMESTAMP'],wellhead['head'])"
   ]
  },
  {
   "cell_type": "markdown",
   "metadata": {},
   "source": [
    "Oh, that was faster! You will also notice that the x-axis plots just years, but the values we fed in were years, months, day, hour, minutes, and seconds. How does Python/Pandas/Matplotlib know to do this? It is because our data is not a Timestamp object, and not a text string as before. "
   ]
  },
  {
   "cell_type": "code",
   "execution_count": 28,
   "metadata": {},
   "outputs": [
    {
     "name": "stdout",
     "output_type": "stream",
     "text": [
      "2014-08-14 14:00:00\n",
      "<class 'str'>\n"
     ]
    }
   ],
   "source": [
    "#checking the type of the original TIMESTAMP\n",
    "wellhead = pd.read_csv('http://aqueduct.isws.illinois.edu/data/381651_HRY-91C_hyd.csv')\n",
    "print(wellhead['TIMESTAMP'][0])\n",
    "print(type(wellhead['TIMESTAMP'][0]))"
   ]
  },
  {
   "cell_type": "code",
   "execution_count": 29,
   "metadata": {},
   "outputs": [
    {
     "name": "stdout",
     "output_type": "stream",
     "text": [
      "2014-08-14 14:00:00\n",
      "<class 'pandas._libs.tslibs.timestamps.Timestamp'>\n"
     ]
    }
   ],
   "source": [
    "#checking the type of the converted TIMESTAMP to Timestamp\n",
    "wellhead['TIMESTAMP'] = pd.to_datetime(wellhead['TIMESTAMP'])\n",
    "print(wellhead['TIMESTAMP'][0])\n",
    "print(type(wellhead['TIMESTAMP'][0]))"
   ]
  },
  {
   "cell_type": "markdown",
   "metadata": {},
   "source": [
    "You will probably hear me slip up this semester and refer to the Timestamp object as a DateTime object; Timestamp is exclusive to Pandas but they are effectively the same thing. To read more, check out: https://pandas.pydata.org/pandas-docs/stable/reference/api/pandas.Timestamp.html."
   ]
  },
  {
   "cell_type": "markdown",
   "metadata": {},
   "source": [
    "# Now try it on your own"
   ]
  },
  {
   "cell_type": "markdown",
   "metadata": {},
   "source": [
    "The well that we have been looking at, Henry 91C, is part of a monitoring network in the Green River Lowlands and is nested with a shallower well, Henry 91D. Go ahead and plot 91D up and compare with 91C. You can access the information here:\n",
    "\n",
    "https://www.isws.illinois.edu/groundwater-science/groundwater-monitoring-well-networks/green-river-lowlands-monitoring"
   ]
  },
  {
   "cell_type": "code",
   "execution_count": 34,
   "metadata": {},
   "outputs": [
    {
     "name": "stdout",
     "output_type": "stream",
     "text": [
      "                TIMESTAMP        GWE            method\n",
      "0     1991-09-10 00:00:00  602.01000  Hand Measurement\n",
      "1     1991-10-02 00:00:00  601.94000  Hand Measurement\n",
      "2     1991-11-13 00:00:00  602.64000  Hand Measurement\n",
      "3     1991-12-13 00:00:00  603.21000  Hand Measurement\n",
      "4     1992-01-10 00:00:00  603.05000  Hand Measurement\n",
      "...                   ...        ...               ...\n",
      "56124 2021-02-10 17:00:00  603.25334        Transducer\n",
      "56125 2021-02-10 18:00:00  603.25027        Transducer\n",
      "56126 2021-02-10 19:00:00  603.24947        Transducer\n",
      "56127 2021-02-10 20:00:00  603.24953        Transducer\n",
      "56128 2021-02-10 21:00:00  603.24770        Transducer\n",
      "\n",
      "[56129 rows x 3 columns]\n"
     ]
    },
    {
     "data": {
      "image/png": "[encoded data removed]",
      "text/plain": [
       "<Figure size 432x288 with 1 Axes>"
      ]
     },
     "metadata": {
      "needs_background": "light"
     },
     "output_type": "display_data"
    }
   ],
   "source": [
    "# write your code here\n",
    "wellhead = pd.read_csv('http://aqueduct.isws.illinois.edu/data/381652.csv')\n",
    "wellhead['TIMESTAMP'] = pd.to_datetime(wellhead['TIMESTAMP'])\n",
    "plt.plot(wellhead['TIMESTAMP'],wellhead['GWE'])\n",
    "print(wellhead)"
   ]
  },
  {
   "cell_type": "markdown",
   "metadata": {},
   "source": [
    "As part of your homework, you are going to need to investigate a few wells in the region and answer a few hydrogeologic questions. A good reference will be this report: https://www.ideals.illinois.edu/handle/2142/74884."
   ]
  },
  {
   "cell_type": "markdown",
   "metadata": {},
   "source": [
    "<a id='DateTimes'></a>\n",
    "\n",
    "\n",
    "\n",
    "# Module 2.2 More Fun with TimeStamps "
   ]
  },
  {
   "cell_type": "markdown",
   "metadata": {},
   "source": [
    "When working with Pandas, we often want to assign a specific column to serve as our index. It is particularly useful to assign the time column to the index, as you will soon see. There are multiple ways to do this, but perhaps the easiest is to assign the index during the import of an Excel spreadsheet.\n",
    "\n",
    "This is done by adding the argument `index_col = columnname` to the `pd.read_excel()` function.\n",
    "\n",
    "Before going any further, make sure to import packages again if you have taken a break before starting this module."
   ]
  },
  {
   "cell_type": "code",
   "execution_count": 35,
   "metadata": {},
   "outputs": [],
   "source": [
    "# import math\n",
    "import math\n",
    "# import pandas with alias pd\n",
    "import pandas as pd\n",
    "# import matplotlib as plt\n",
    "import matplotlib.pyplot as plt\n",
    "%matplotlib inline"
   ]
  },
  {
   "cell_type": "code",
   "execution_count": 36,
   "metadata": {
    "scrolled": true
   },
   "outputs": [
    {
     "data": {
      "text/html": [
       "<div>\n",
       "<style scoped>\n",
       "    .dataframe tbody tr th:only-of-type {\n",
       "        vertical-align: middle;\n",
       "    }\n",
       "\n",
       "    .dataframe tbody tr th {\n",
       "        vertical-align: top;\n",
       "    }\n",
       "\n",
       "    .dataframe thead th {\n",
       "        text-align: right;\n",
       "    }\n",
       "</style>\n",
       "<table border=\"1\" class=\"dataframe\">\n",
       "  <thead>\n",
       "    <tr style=\"text-align: right;\">\n",
       "      <th></th>\n",
       "      <th>record</th>\n",
       "      <th>time</th>\n",
       "      <th>dtw_ft</th>\n",
       "      <th>head_ft</th>\n",
       "    </tr>\n",
       "  </thead>\n",
       "  <tbody>\n",
       "    <tr>\n",
       "      <th>0</th>\n",
       "      <td>0</td>\n",
       "      <td>2014-08-14 14:00:00</td>\n",
       "      <td>26.59</td>\n",
       "      <td>584.06</td>\n",
       "    </tr>\n",
       "    <tr>\n",
       "      <th>1</th>\n",
       "      <td>1</td>\n",
       "      <td>2014-08-14 15:00:00</td>\n",
       "      <td>26.58</td>\n",
       "      <td>584.07</td>\n",
       "    </tr>\n",
       "    <tr>\n",
       "      <th>2</th>\n",
       "      <td>2</td>\n",
       "      <td>2014-08-14 16:00:00</td>\n",
       "      <td>26.58</td>\n",
       "      <td>584.07</td>\n",
       "    </tr>\n",
       "    <tr>\n",
       "      <th>3</th>\n",
       "      <td>3</td>\n",
       "      <td>2014-08-14 17:00:00</td>\n",
       "      <td>26.59</td>\n",
       "      <td>584.06</td>\n",
       "    </tr>\n",
       "    <tr>\n",
       "      <th>4</th>\n",
       "      <td>4</td>\n",
       "      <td>2014-08-14 18:00:00</td>\n",
       "      <td>26.61</td>\n",
       "      <td>584.04</td>\n",
       "    </tr>\n",
       "    <tr>\n",
       "      <th>...</th>\n",
       "      <td>...</td>\n",
       "      <td>...</td>\n",
       "      <td>...</td>\n",
       "      <td>...</td>\n",
       "    </tr>\n",
       "    <tr>\n",
       "      <th>53992</th>\n",
       "      <td>67282</td>\n",
       "      <td>2020-11-20 10:00:00</td>\n",
       "      <td>11.73</td>\n",
       "      <td>598.92</td>\n",
       "    </tr>\n",
       "    <tr>\n",
       "      <th>53993</th>\n",
       "      <td>67283</td>\n",
       "      <td>2020-11-20 11:00:00</td>\n",
       "      <td>11.73</td>\n",
       "      <td>598.92</td>\n",
       "    </tr>\n",
       "    <tr>\n",
       "      <th>53994</th>\n",
       "      <td>67284</td>\n",
       "      <td>2020-11-20 12:00:00</td>\n",
       "      <td>11.73</td>\n",
       "      <td>598.92</td>\n",
       "    </tr>\n",
       "    <tr>\n",
       "      <th>53995</th>\n",
       "      <td>67285</td>\n",
       "      <td>2020-11-20 13:00:00</td>\n",
       "      <td>11.73</td>\n",
       "      <td>598.92</td>\n",
       "    </tr>\n",
       "    <tr>\n",
       "      <th>53996</th>\n",
       "      <td>67286</td>\n",
       "      <td>2020-11-20 14:00:00</td>\n",
       "      <td>11.73</td>\n",
       "      <td>598.92</td>\n",
       "    </tr>\n",
       "  </tbody>\n",
       "</table>\n",
       "<p>53997 rows × 4 columns</p>\n",
       "</div>"
      ],
      "text/plain": [
       "       record                time  dtw_ft  head_ft\n",
       "0           0 2014-08-14 14:00:00   26.59   584.06\n",
       "1           1 2014-08-14 15:00:00   26.58   584.07\n",
       "2           2 2014-08-14 16:00:00   26.58   584.07\n",
       "3           3 2014-08-14 17:00:00   26.59   584.06\n",
       "4           4 2014-08-14 18:00:00   26.61   584.04\n",
       "...       ...                 ...     ...      ...\n",
       "53992   67282 2020-11-20 10:00:00   11.73   598.92\n",
       "53993   67283 2020-11-20 11:00:00   11.73   598.92\n",
       "53994   67284 2020-11-20 12:00:00   11.73   598.92\n",
       "53995   67285 2020-11-20 13:00:00   11.73   598.92\n",
       "53996   67286 2020-11-20 14:00:00   11.73   598.92\n",
       "\n",
       "[53997 rows x 4 columns]"
      ]
     },
     "execution_count": 36,
     "metadata": {},
     "output_type": "execute_result"
    }
   ],
   "source": [
    "# let's also import our data again\n",
    "head_csv = 'http://aqueduct.isws.illinois.edu/data/381651_HRY-91C_hyd.csv'\n",
    "wellhead = pd.read_csv(head_csv)\n",
    "# good idea to rename the columns to make them either briefer or to eliminate the potentially confusing \"head\", which is a Pandas term\n",
    "wellhead = wellhead.rename(columns={\"RECORD\": \"record\", \"TIMESTAMP\": 'time', \"depth_to_water_from_land_surface\": \"dtw_ft\", \"head\": \"head_ft\"})\n",
    "wellhead.time = pd.to_datetime(wellhead.time)\n",
    "wellhead"
   ]
  },
  {
   "cell_type": "code",
   "execution_count": 37,
   "metadata": {
    "scrolled": true
   },
   "outputs": [
    {
     "data": {
      "text/html": [
       "<div>\n",
       "<style scoped>\n",
       "    .dataframe tbody tr th:only-of-type {\n",
       "        vertical-align: middle;\n",
       "    }\n",
       "\n",
       "    .dataframe tbody tr th {\n",
       "        vertical-align: top;\n",
       "    }\n",
       "\n",
       "    .dataframe thead th {\n",
       "        text-align: right;\n",
       "    }\n",
       "</style>\n",
       "<table border=\"1\" class=\"dataframe\">\n",
       "  <thead>\n",
       "    <tr style=\"text-align: right;\">\n",
       "      <th></th>\n",
       "      <th>record</th>\n",
       "      <th>time</th>\n",
       "      <th>dtw_ft</th>\n",
       "      <th>head_ft</th>\n",
       "    </tr>\n",
       "    <tr>\n",
       "      <th>time</th>\n",
       "      <th></th>\n",
       "      <th></th>\n",
       "      <th></th>\n",
       "      <th></th>\n",
       "    </tr>\n",
       "  </thead>\n",
       "  <tbody>\n",
       "    <tr>\n",
       "      <th>2014-08-14 14:00:00</th>\n",
       "      <td>0</td>\n",
       "      <td>2014-08-14 14:00:00</td>\n",
       "      <td>26.59</td>\n",
       "      <td>584.06</td>\n",
       "    </tr>\n",
       "    <tr>\n",
       "      <th>2014-08-14 15:00:00</th>\n",
       "      <td>1</td>\n",
       "      <td>2014-08-14 15:00:00</td>\n",
       "      <td>26.58</td>\n",
       "      <td>584.07</td>\n",
       "    </tr>\n",
       "    <tr>\n",
       "      <th>2014-08-14 16:00:00</th>\n",
       "      <td>2</td>\n",
       "      <td>2014-08-14 16:00:00</td>\n",
       "      <td>26.58</td>\n",
       "      <td>584.07</td>\n",
       "    </tr>\n",
       "    <tr>\n",
       "      <th>2014-08-14 17:00:00</th>\n",
       "      <td>3</td>\n",
       "      <td>2014-08-14 17:00:00</td>\n",
       "      <td>26.59</td>\n",
       "      <td>584.06</td>\n",
       "    </tr>\n",
       "    <tr>\n",
       "      <th>2014-08-14 18:00:00</th>\n",
       "      <td>4</td>\n",
       "      <td>2014-08-14 18:00:00</td>\n",
       "      <td>26.61</td>\n",
       "      <td>584.04</td>\n",
       "    </tr>\n",
       "    <tr>\n",
       "      <th>...</th>\n",
       "      <td>...</td>\n",
       "      <td>...</td>\n",
       "      <td>...</td>\n",
       "      <td>...</td>\n",
       "    </tr>\n",
       "    <tr>\n",
       "      <th>2020-11-20 10:00:00</th>\n",
       "      <td>67282</td>\n",
       "      <td>2020-11-20 10:00:00</td>\n",
       "      <td>11.73</td>\n",
       "      <td>598.92</td>\n",
       "    </tr>\n",
       "    <tr>\n",
       "      <th>2020-11-20 11:00:00</th>\n",
       "      <td>67283</td>\n",
       "      <td>2020-11-20 11:00:00</td>\n",
       "      <td>11.73</td>\n",
       "      <td>598.92</td>\n",
       "    </tr>\n",
       "    <tr>\n",
       "      <th>2020-11-20 12:00:00</th>\n",
       "      <td>67284</td>\n",
       "      <td>2020-11-20 12:00:00</td>\n",
       "      <td>11.73</td>\n",
       "      <td>598.92</td>\n",
       "    </tr>\n",
       "    <tr>\n",
       "      <th>2020-11-20 13:00:00</th>\n",
       "      <td>67285</td>\n",
       "      <td>2020-11-20 13:00:00</td>\n",
       "      <td>11.73</td>\n",
       "      <td>598.92</td>\n",
       "    </tr>\n",
       "    <tr>\n",
       "      <th>2020-11-20 14:00:00</th>\n",
       "      <td>67286</td>\n",
       "      <td>2020-11-20 14:00:00</td>\n",
       "      <td>11.73</td>\n",
       "      <td>598.92</td>\n",
       "    </tr>\n",
       "  </tbody>\n",
       "</table>\n",
       "<p>53997 rows × 4 columns</p>\n",
       "</div>"
      ],
      "text/plain": [
       "                     record                time  dtw_ft  head_ft\n",
       "time                                                            \n",
       "2014-08-14 14:00:00       0 2014-08-14 14:00:00   26.59   584.06\n",
       "2014-08-14 15:00:00       1 2014-08-14 15:00:00   26.58   584.07\n",
       "2014-08-14 16:00:00       2 2014-08-14 16:00:00   26.58   584.07\n",
       "2014-08-14 17:00:00       3 2014-08-14 17:00:00   26.59   584.06\n",
       "2014-08-14 18:00:00       4 2014-08-14 18:00:00   26.61   584.04\n",
       "...                     ...                 ...     ...      ...\n",
       "2020-11-20 10:00:00   67282 2020-11-20 10:00:00   11.73   598.92\n",
       "2020-11-20 11:00:00   67283 2020-11-20 11:00:00   11.73   598.92\n",
       "2020-11-20 12:00:00   67284 2020-11-20 12:00:00   11.73   598.92\n",
       "2020-11-20 13:00:00   67285 2020-11-20 13:00:00   11.73   598.92\n",
       "2020-11-20 14:00:00   67286 2020-11-20 14:00:00   11.73   598.92\n",
       "\n",
       "[53997 rows x 4 columns]"
      ]
     },
     "execution_count": 37,
     "metadata": {},
     "output_type": "execute_result"
    }
   ],
   "source": [
    "# change index to time\n",
    "wellhead.index = wellhead['time']\n",
    "wellhead"
   ]
  },
  {
   "cell_type": "markdown",
   "metadata": {},
   "source": [
    "### Plotting with Pandas"
   ]
  },
  {
   "cell_type": "markdown",
   "metadata": {},
   "source": [
    "Now we can plot data using the shortcut in Pandas, or do it the classic way. Note that the two code blocks give the same result. "
   ]
  },
  {
   "cell_type": "code",
   "execution_count": 39,
   "metadata": {},
   "outputs": [
    {
     "data": {
      "image/png": "[encoded data removed]",
      "text/plain": [
       "<Figure size 432x288 with 1 Axes>"
      ]
     },
     "metadata": {
      "needs_background": "light"
     },
     "output_type": "display_data"
    }
   ],
   "source": [
    "# plot a line at a time\n",
    "wellhead['head_ft'].plot()\n",
    "plt.title('Henry 91C')\n",
    "plt.ylabel('head (ft)')\n",
    "plt.xticks(rotation=30)\n",
    "plt.show()"
   ]
  },
  {
   "cell_type": "code",
   "execution_count": 40,
   "metadata": {},
   "outputs": [
    {
     "data": {
      "image/png": "[encoded data removed]",
      "text/plain": [
       "<Figure size 432x288 with 1 Axes>"
      ]
     },
     "metadata": {
      "needs_background": "light"
     },
     "output_type": "display_data"
    }
   ],
   "source": [
    "# plot a line at a time\n",
    "plt.plot(wellhead.index,wellhead['head_ft'])\n",
    "plt.title('Henry 91C')\n",
    "plt.ylabel('head (ft)')\n",
    "plt.xticks(rotation=30)\n",
    "plt.show()"
   ]
  },
  {
   "cell_type": "markdown",
   "metadata": {},
   "source": [
    "# So what?\n",
    "\n",
    "Okay, swapping our timestamp/datetime to the index didn't gain us much for purposes of plotting. However, there is a powerful feature that we haven't discussed yet- sampling. Sometimes, you may not want to plot all data, but instead take an average over a period of time. This is called resampling or binning the data, and this can be done with the timestamp object with a single line of code!"
   ]
  },
  {
   "cell_type": "code",
   "execution_count": 41,
   "metadata": {
    "scrolled": true
   },
   "outputs": [
    {
     "name": "stdout",
     "output_type": "stream",
     "text": [
      "                  record     dtw_ft     head_ft\n",
      "time                                           \n",
      "2014-12-31   1665.500000  14.707761  595.942236\n",
      "2015-12-31   7711.500000  11.298626  599.351369\n",
      "2016-12-31  16376.000000   9.643949  601.006050\n",
      "2017-12-31  37584.630543  11.516226  599.133774\n",
      "2018-12-31  46354.995890  11.783628  598.866373\n",
      "2019-12-31  55115.160064   9.457601  601.192396\n",
      "2020-12-31  63369.422621  13.014673  597.635328\n"
     ]
    }
   ],
   "source": [
    "# this code resamples the dataframe to an annual average water level\n",
    "wellhead_yr = wellhead.resample('Y').mean()\n",
    "print(wellhead_yr)"
   ]
  },
  {
   "cell_type": "markdown",
   "metadata": {},
   "source": [
    "The mean over a year (`Y`) was taken in every column, which isn't meaningful for the record (which was a unique id that has no physical meaning), but is very helpful for the head. Data can be resampled over other time intervals as well, including `D` for day, `W` for week, and `M` for month. "
   ]
  },
  {
   "cell_type": "code",
   "execution_count": 42,
   "metadata": {
    "scrolled": true
   },
   "outputs": [
    {
     "data": {
      "text/plain": [
       "<AxesSubplot:xlabel='time'>"
      ]
     },
     "execution_count": 42,
     "metadata": {},
     "output_type": "execute_result"
    },
    {
     "data": {
      "image/png": "[encoded data removed]",
      "text/plain": [
       "<Figure size 432x288 with 1 Axes>"
      ]
     },
     "metadata": {
      "needs_background": "light"
     },
     "output_type": "display_data"
    }
   ],
   "source": [
    "wellhead_yr['head_ft'].plot()"
   ]
  },
  {
   "cell_type": "markdown",
   "metadata": {},
   "source": [
    "This tells us that the highest water levels occurred in 2016 and 2019; the lowest occurred in 2014 and 2020. In your homework, you are going to compare this to precipitation data in each year. I don't know what this will actually show; it could be interesting!"
   ]
  },
  {
   "cell_type": "markdown",
   "metadata": {},
   "source": [
    "# Now try this on your own!\n",
    "\n",
    "Try plotting up the maximum and minimum elevations observed in each year at Henry 91C."
   ]
  },
  {
   "cell_type": "code",
   "execution_count": 47,
   "metadata": {
    "scrolled": true
   },
   "outputs": [
    {
     "name": "stdout",
     "output_type": "stream",
     "text": [
      "            record                time  dtw_ft  head_ft\n",
      "time                                                   \n",
      "2014-12-31       0 2014-08-14 14:00:00    9.57   579.12\n",
      "2015-12-31    3332 2015-01-01 00:00:00    7.85   584.31\n",
      "2016-12-31   12092 2016-01-01 00:00:00    7.10   591.65\n",
      "2017-12-31   20661 2017-01-01 00:00:00    6.43   587.53\n",
      "2018-12-31   41974 2018-01-01 00:00:00    7.78   580.20\n",
      "2019-12-31   50736 2019-01-01 00:00:00    4.92   585.23\n",
      "2020-12-31   59496 2020-01-01 00:00:00    6.33   576.82\n"
     ]
    },
    {
     "data": {
      "image/png": "[encoded data removed]",
      "text/plain": [
       "<Figure size 432x288 with 1 Axes>"
      ]
     },
     "metadata": {
      "needs_background": "light"
     },
     "output_type": "display_data"
    }
   ],
   "source": [
    "wellhead_yr = wellhead.resample('Y').min()\n",
    "wellhead_yr['head_ft'].plot()\n",
    "print(wellhead_yr)"
   ]
  },
  {
   "cell_type": "markdown",
   "metadata": {},
   "source": [
    "Are you surprised that the mean, max, and min all show different trends? I'll leave it to you to think about what these results mean, and also whether any of these years are misleading. "
   ]
  },
  {
   "cell_type": "markdown",
   "metadata": {},
   "source": [
    "<a id='Application'></a>\n",
    "\n",
    "# Module 2.3: Estimating Recharge\n",
    "\n",
    "After a precipitation event, a portion of the water vertically infiltrates to the aquifer, known as recharge. Recharge is measured in the same units as precipitation (length per time, commonly inches per year).  \n",
    "\n",
    "Employing hydrographs, we are going to use a simple hydrogeologic analysis known as the Water Table Fluctuation method. The concept is simple, changes in groundwater head <b>might</b> indicate a change in recharge, although other factors such as pumping or changes in stream levels could also be influencing this change. Let's not worry about that now.\n",
    "\n",
    "The idea is to apply transient mass balance concepts to estimate recharge as follows:\n",
    "\n",
    "$R=\\frac{\\Delta h S_y}{t}$\n",
    "\n",
    "where $R$ is recharge ($ft/d$), $\\Delta h$ is change in head ($ft$), $S_y$ is specific yield (unitless), and time is the interval over which the head change was observed ($d$). <b>Only positive recharge is generally considered</b>\n",
    "\n",
    "Let's see how this looks on a data set from the ISWS for a monitoring well in Mason County, resampled to capture the water level every week."
   ]
  },
  {
   "cell_type": "code",
   "execution_count": 48,
   "metadata": {
    "scrolled": true
   },
   "outputs": [
    {
     "data": {
      "text/html": [
       "<div>\n",
       "<style scoped>\n",
       "    .dataframe tbody tr th:only-of-type {\n",
       "        vertical-align: middle;\n",
       "    }\n",
       "\n",
       "    .dataframe tbody tr th {\n",
       "        vertical-align: top;\n",
       "    }\n",
       "\n",
       "    .dataframe thead th {\n",
       "        text-align: right;\n",
       "    }\n",
       "</style>\n",
       "<table border=\"1\" class=\"dataframe\">\n",
       "  <thead>\n",
       "    <tr style=\"text-align: right;\">\n",
       "      <th></th>\n",
       "      <th>TIMESTAMP</th>\n",
       "      <th>GWE</th>\n",
       "      <th>method</th>\n",
       "    </tr>\n",
       "    <tr>\n",
       "      <th>TIMESTAMP</th>\n",
       "      <th></th>\n",
       "      <th></th>\n",
       "      <th></th>\n",
       "    </tr>\n",
       "  </thead>\n",
       "  <tbody>\n",
       "    <tr>\n",
       "      <th>1995-03-01 00:00:00</th>\n",
       "      <td>1995-03-01 00:00:00</td>\n",
       "      <td>479.43000</td>\n",
       "      <td>Hand Measurement</td>\n",
       "    </tr>\n",
       "    <tr>\n",
       "      <th>1995-04-01 00:00:00</th>\n",
       "      <td>1995-04-01 00:00:00</td>\n",
       "      <td>479.60000</td>\n",
       "      <td>Hand Measurement</td>\n",
       "    </tr>\n",
       "    <tr>\n",
       "      <th>1995-05-01 00:00:00</th>\n",
       "      <td>1995-05-01 00:00:00</td>\n",
       "      <td>479.89000</td>\n",
       "      <td>Hand Measurement</td>\n",
       "    </tr>\n",
       "    <tr>\n",
       "      <th>1995-06-01 00:00:00</th>\n",
       "      <td>1995-06-01 00:00:00</td>\n",
       "      <td>483.74000</td>\n",
       "      <td>Hand Measurement</td>\n",
       "    </tr>\n",
       "    <tr>\n",
       "      <th>1995-07-01 00:00:00</th>\n",
       "      <td>1995-07-01 00:00:00</td>\n",
       "      <td>483.80000</td>\n",
       "      <td>Hand Measurement</td>\n",
       "    </tr>\n",
       "    <tr>\n",
       "      <th>...</th>\n",
       "      <td>...</td>\n",
       "      <td>...</td>\n",
       "      <td>...</td>\n",
       "    </tr>\n",
       "    <tr>\n",
       "      <th>2020-09-22 16:00:00</th>\n",
       "      <td>2020-09-22 16:00:00</td>\n",
       "      <td>NaN</td>\n",
       "      <td>Transducer</td>\n",
       "    </tr>\n",
       "    <tr>\n",
       "      <th>2020-09-25 10:00:00</th>\n",
       "      <td>2020-09-25 10:00:00</td>\n",
       "      <td>477.12691</td>\n",
       "      <td>Transducer</td>\n",
       "    </tr>\n",
       "    <tr>\n",
       "      <th>2020-09-25 12:00:00</th>\n",
       "      <td>2020-09-25 12:00:00</td>\n",
       "      <td>477.14457</td>\n",
       "      <td>Transducer</td>\n",
       "    </tr>\n",
       "    <tr>\n",
       "      <th>2020-09-25 13:00:00</th>\n",
       "      <td>2020-09-25 13:00:00</td>\n",
       "      <td>477.14915</td>\n",
       "      <td>Transducer</td>\n",
       "    </tr>\n",
       "    <tr>\n",
       "      <th>2020-12-01 11:02:00</th>\n",
       "      <td>2020-12-01 11:02:00</td>\n",
       "      <td>476.78000</td>\n",
       "      <td>Hand Measurement</td>\n",
       "    </tr>\n",
       "  </tbody>\n",
       "</table>\n",
       "<p>35168 rows × 3 columns</p>\n",
       "</div>"
      ],
      "text/plain": [
       "                               TIMESTAMP        GWE            method\n",
       "TIMESTAMP                                                            \n",
       "1995-03-01 00:00:00  1995-03-01 00:00:00  479.43000  Hand Measurement\n",
       "1995-04-01 00:00:00  1995-04-01 00:00:00  479.60000  Hand Measurement\n",
       "1995-05-01 00:00:00  1995-05-01 00:00:00  479.89000  Hand Measurement\n",
       "1995-06-01 00:00:00  1995-06-01 00:00:00  483.74000  Hand Measurement\n",
       "1995-07-01 00:00:00  1995-07-01 00:00:00  483.80000  Hand Measurement\n",
       "...                                  ...        ...               ...\n",
       "2020-09-22 16:00:00  2020-09-22 16:00:00        NaN        Transducer\n",
       "2020-09-25 10:00:00  2020-09-25 10:00:00  477.12691        Transducer\n",
       "2020-09-25 12:00:00  2020-09-25 12:00:00  477.14457        Transducer\n",
       "2020-09-25 13:00:00  2020-09-25 13:00:00  477.14915        Transducer\n",
       "2020-12-01 11:02:00  2020-12-01 11:02:00  476.78000  Hand Measurement\n",
       "\n",
       "[35168 rows x 3 columns]"
      ]
     },
     "execution_count": 48,
     "metadata": {},
     "output_type": "execute_result"
    }
   ],
   "source": [
    "# https://www.isws.illinois.edu/groundwater-science/groundwater-monitoring-well-networks/imperial-valley\n",
    "wellhead = pd.read_csv('http://aqueduct.isws.illinois.edu/data/360669.csv')\n",
    "wellhead.index = pd.to_datetime(wellhead['TIMESTAMP'])\n",
    "wellhead"
   ]
  },
  {
   "cell_type": "markdown",
   "metadata": {},
   "source": [
    "A couple of notes on this. GWE is Groundwater Elevation, in feet above mean sea level. There is no depth to water, and the measurement method is included as well. You can see right away that the weekly measurements are originally taken by hand, but end with mostly transducer readings. The transducer (which measures water levels continuously) failed in late September of last year, but there is a hand measurement in December.\n",
    "\n",
    "When we do a weekly resampling, you will notice some major changes to the structure of this DataFrame."
   ]
  },
  {
   "cell_type": "code",
   "execution_count": 49,
   "metadata": {
    "scrolled": true
   },
   "outputs": [
    {
     "name": "stdout",
     "output_type": "stream",
     "text": [
      "               GWE\n",
      "TIMESTAMP         \n",
      "1995-03-05  479.43\n",
      "1995-03-12     NaN\n",
      "1995-03-19     NaN\n",
      "1995-03-26     NaN\n",
      "1995-04-02  479.60\n",
      "...            ...\n",
      "2020-11-08     NaN\n",
      "2020-11-15     NaN\n",
      "2020-11-22     NaN\n",
      "2020-11-29     NaN\n",
      "2020-12-06  476.78\n",
      "\n",
      "[1345 rows x 1 columns]\n"
     ]
    }
   ],
   "source": [
    "wellhead_w = wellhead.resample('W').mean()\n",
    "print(wellhead_w)"
   ]
  },
  {
   "cell_type": "markdown",
   "metadata": {},
   "source": [
    "We see a lot of NaN's. That simply represents weeks for which no data exists. However, we can still plot this data."
   ]
  },
  {
   "cell_type": "code",
   "execution_count": 50,
   "metadata": {},
   "outputs": [
    {
     "data": {
      "image/png": "[encoded data removed]",
      "text/plain": [
       "<Figure size 432x288 with 1 Axes>"
      ]
     },
     "metadata": {
      "needs_background": "light"
     },
     "output_type": "display_data"
    }
   ],
   "source": [
    "# plot a line at a time\n",
    "wellhead_w.GWE.plot()\n",
    "plt.title('Wildlife Refuge Well')\n",
    "plt.ylabel('head (ft)')\n",
    "plt.xticks(rotation=30)\n",
    "plt.show()"
   ]
  },
  {
   "cell_type": "markdown",
   "metadata": {},
   "source": [
    "There is a lot of missing data that will prove problematic here. Instead, let's just use the transducer data. This brings up a new important concept- how to trim a dataframe based on a certain condition. In this case, we want a new dataframe that only includes tranducer data. This is relatively easy to do, and the code takes the following form:"
   ]
  },
  {
   "cell_type": "code",
   "execution_count": 51,
   "metadata": {},
   "outputs": [
    {
     "data": {
      "text/html": [
       "<div>\n",
       "<style scoped>\n",
       "    .dataframe tbody tr th:only-of-type {\n",
       "        vertical-align: middle;\n",
       "    }\n",
       "\n",
       "    .dataframe tbody tr th {\n",
       "        vertical-align: top;\n",
       "    }\n",
       "\n",
       "    .dataframe thead th {\n",
       "        text-align: right;\n",
       "    }\n",
       "</style>\n",
       "<table border=\"1\" class=\"dataframe\">\n",
       "  <thead>\n",
       "    <tr style=\"text-align: right;\">\n",
       "      <th></th>\n",
       "      <th>TIMESTAMP</th>\n",
       "      <th>GWE</th>\n",
       "      <th>method</th>\n",
       "    </tr>\n",
       "    <tr>\n",
       "      <th>TIMESTAMP</th>\n",
       "      <th></th>\n",
       "      <th></th>\n",
       "      <th></th>\n",
       "    </tr>\n",
       "  </thead>\n",
       "  <tbody>\n",
       "    <tr>\n",
       "      <th>1995-03-01 00:00:00</th>\n",
       "      <td>1995-03-01 00:00:00</td>\n",
       "      <td>479.43000</td>\n",
       "      <td>Hand Measurement</td>\n",
       "    </tr>\n",
       "    <tr>\n",
       "      <th>1995-04-01 00:00:00</th>\n",
       "      <td>1995-04-01 00:00:00</td>\n",
       "      <td>479.60000</td>\n",
       "      <td>Hand Measurement</td>\n",
       "    </tr>\n",
       "    <tr>\n",
       "      <th>1995-05-01 00:00:00</th>\n",
       "      <td>1995-05-01 00:00:00</td>\n",
       "      <td>479.89000</td>\n",
       "      <td>Hand Measurement</td>\n",
       "    </tr>\n",
       "    <tr>\n",
       "      <th>1995-06-01 00:00:00</th>\n",
       "      <td>1995-06-01 00:00:00</td>\n",
       "      <td>483.74000</td>\n",
       "      <td>Hand Measurement</td>\n",
       "    </tr>\n",
       "    <tr>\n",
       "      <th>1995-07-01 00:00:00</th>\n",
       "      <td>1995-07-01 00:00:00</td>\n",
       "      <td>483.80000</td>\n",
       "      <td>Hand Measurement</td>\n",
       "    </tr>\n",
       "    <tr>\n",
       "      <th>...</th>\n",
       "      <td>...</td>\n",
       "      <td>...</td>\n",
       "      <td>...</td>\n",
       "    </tr>\n",
       "    <tr>\n",
       "      <th>2020-09-22 16:00:00</th>\n",
       "      <td>2020-09-22 16:00:00</td>\n",
       "      <td>NaN</td>\n",
       "      <td>Transducer</td>\n",
       "    </tr>\n",
       "    <tr>\n",
       "      <th>2020-09-25 10:00:00</th>\n",
       "      <td>2020-09-25 10:00:00</td>\n",
       "      <td>477.12691</td>\n",
       "      <td>Transducer</td>\n",
       "    </tr>\n",
       "    <tr>\n",
       "      <th>2020-09-25 12:00:00</th>\n",
       "      <td>2020-09-25 12:00:00</td>\n",
       "      <td>477.14457</td>\n",
       "      <td>Transducer</td>\n",
       "    </tr>\n",
       "    <tr>\n",
       "      <th>2020-09-25 13:00:00</th>\n",
       "      <td>2020-09-25 13:00:00</td>\n",
       "      <td>477.14915</td>\n",
       "      <td>Transducer</td>\n",
       "    </tr>\n",
       "    <tr>\n",
       "      <th>2020-12-01 11:02:00</th>\n",
       "      <td>2020-12-01 11:02:00</td>\n",
       "      <td>476.78000</td>\n",
       "      <td>Hand Measurement</td>\n",
       "    </tr>\n",
       "  </tbody>\n",
       "</table>\n",
       "<p>35168 rows × 3 columns</p>\n",
       "</div>"
      ],
      "text/plain": [
       "                               TIMESTAMP        GWE            method\n",
       "TIMESTAMP                                                            \n",
       "1995-03-01 00:00:00  1995-03-01 00:00:00  479.43000  Hand Measurement\n",
       "1995-04-01 00:00:00  1995-04-01 00:00:00  479.60000  Hand Measurement\n",
       "1995-05-01 00:00:00  1995-05-01 00:00:00  479.89000  Hand Measurement\n",
       "1995-06-01 00:00:00  1995-06-01 00:00:00  483.74000  Hand Measurement\n",
       "1995-07-01 00:00:00  1995-07-01 00:00:00  483.80000  Hand Measurement\n",
       "...                                  ...        ...               ...\n",
       "2020-09-22 16:00:00  2020-09-22 16:00:00        NaN        Transducer\n",
       "2020-09-25 10:00:00  2020-09-25 10:00:00  477.12691        Transducer\n",
       "2020-09-25 12:00:00  2020-09-25 12:00:00  477.14457        Transducer\n",
       "2020-09-25 13:00:00  2020-09-25 13:00:00  477.14915        Transducer\n",
       "2020-12-01 11:02:00  2020-12-01 11:02:00  476.78000  Hand Measurement\n",
       "\n",
       "[35168 rows x 3 columns]"
      ]
     },
     "execution_count": 51,
     "metadata": {},
     "output_type": "execute_result"
    }
   ],
   "source": [
    "# https://www.isws.illinois.edu/groundwater-science/groundwater-monitoring-well-networks/imperial-valley\n",
    "wellhead = pd.read_csv('http://aqueduct.isws.illinois.edu/data/360669.csv')\n",
    "wellhead.index = pd.to_datetime(wellhead['TIMESTAMP'])\n",
    "wellhead"
   ]
  },
  {
   "cell_type": "code",
   "execution_count": 53,
   "metadata": {},
   "outputs": [
    {
     "data": {
      "text/html": [
       "<div>\n",
       "<style scoped>\n",
       "    .dataframe tbody tr th:only-of-type {\n",
       "        vertical-align: middle;\n",
       "    }\n",
       "\n",
       "    .dataframe tbody tr th {\n",
       "        vertical-align: top;\n",
       "    }\n",
       "\n",
       "    .dataframe thead th {\n",
       "        text-align: right;\n",
       "    }\n",
       "</style>\n",
       "<table border=\"1\" class=\"dataframe\">\n",
       "  <thead>\n",
       "    <tr style=\"text-align: right;\">\n",
       "      <th></th>\n",
       "      <th>TIMESTAMP</th>\n",
       "      <th>GWE</th>\n",
       "      <th>method</th>\n",
       "    </tr>\n",
       "    <tr>\n",
       "      <th>TIMESTAMP</th>\n",
       "      <th></th>\n",
       "      <th></th>\n",
       "      <th></th>\n",
       "    </tr>\n",
       "  </thead>\n",
       "  <tbody>\n",
       "    <tr>\n",
       "      <th>2016-08-24 10:00:00</th>\n",
       "      <td>2016-08-24 10:00:00</td>\n",
       "      <td>475.83576</td>\n",
       "      <td>Transducer</td>\n",
       "    </tr>\n",
       "    <tr>\n",
       "      <th>2016-08-24 11:00:00</th>\n",
       "      <td>2016-08-24 11:00:00</td>\n",
       "      <td>475.83372</td>\n",
       "      <td>Transducer</td>\n",
       "    </tr>\n",
       "    <tr>\n",
       "      <th>2016-08-24 12:00:00</th>\n",
       "      <td>2016-08-24 12:00:00</td>\n",
       "      <td>475.83812</td>\n",
       "      <td>Transducer</td>\n",
       "    </tr>\n",
       "    <tr>\n",
       "      <th>2016-08-24 13:00:00</th>\n",
       "      <td>2016-08-24 13:00:00</td>\n",
       "      <td>475.84197</td>\n",
       "      <td>Transducer</td>\n",
       "    </tr>\n",
       "    <tr>\n",
       "      <th>2016-08-24 14:00:00</th>\n",
       "      <td>2016-08-24 14:00:00</td>\n",
       "      <td>475.84347</td>\n",
       "      <td>Transducer</td>\n",
       "    </tr>\n",
       "    <tr>\n",
       "      <th>...</th>\n",
       "      <td>...</td>\n",
       "      <td>...</td>\n",
       "      <td>...</td>\n",
       "    </tr>\n",
       "    <tr>\n",
       "      <th>2020-09-22 15:00:00</th>\n",
       "      <td>2020-09-22 15:00:00</td>\n",
       "      <td>NaN</td>\n",
       "      <td>Transducer</td>\n",
       "    </tr>\n",
       "    <tr>\n",
       "      <th>2020-09-22 16:00:00</th>\n",
       "      <td>2020-09-22 16:00:00</td>\n",
       "      <td>NaN</td>\n",
       "      <td>Transducer</td>\n",
       "    </tr>\n",
       "    <tr>\n",
       "      <th>2020-09-25 10:00:00</th>\n",
       "      <td>2020-09-25 10:00:00</td>\n",
       "      <td>477.12691</td>\n",
       "      <td>Transducer</td>\n",
       "    </tr>\n",
       "    <tr>\n",
       "      <th>2020-09-25 12:00:00</th>\n",
       "      <td>2020-09-25 12:00:00</td>\n",
       "      <td>477.14457</td>\n",
       "      <td>Transducer</td>\n",
       "    </tr>\n",
       "    <tr>\n",
       "      <th>2020-09-25 13:00:00</th>\n",
       "      <td>2020-09-25 13:00:00</td>\n",
       "      <td>477.14915</td>\n",
       "      <td>Transducer</td>\n",
       "    </tr>\n",
       "  </tbody>\n",
       "</table>\n",
       "<p>34971 rows × 3 columns</p>\n",
       "</div>"
      ],
      "text/plain": [
       "                               TIMESTAMP        GWE      method\n",
       "TIMESTAMP                                                      \n",
       "2016-08-24 10:00:00  2016-08-24 10:00:00  475.83576  Transducer\n",
       "2016-08-24 11:00:00  2016-08-24 11:00:00  475.83372  Transducer\n",
       "2016-08-24 12:00:00  2016-08-24 12:00:00  475.83812  Transducer\n",
       "2016-08-24 13:00:00  2016-08-24 13:00:00  475.84197  Transducer\n",
       "2016-08-24 14:00:00  2016-08-24 14:00:00  475.84347  Transducer\n",
       "...                                  ...        ...         ...\n",
       "2020-09-22 15:00:00  2020-09-22 15:00:00        NaN  Transducer\n",
       "2020-09-22 16:00:00  2020-09-22 16:00:00        NaN  Transducer\n",
       "2020-09-25 10:00:00  2020-09-25 10:00:00  477.12691  Transducer\n",
       "2020-09-25 12:00:00  2020-09-25 12:00:00  477.14457  Transducer\n",
       "2020-09-25 13:00:00  2020-09-25 13:00:00  477.14915  Transducer\n",
       "\n",
       "[34971 rows x 3 columns]"
      ]
     },
     "execution_count": 53,
     "metadata": {},
     "output_type": "execute_result"
    }
   ],
   "source": [
    "wellhead2 = wellhead[wellhead['method']=='Transducer']\n",
    "wellhead2"
   ]
  },
  {
   "cell_type": "markdown",
   "metadata": {},
   "source": [
    "This syntax might take a little getting used to, but let's break it down. The code `wellhead['method']=='Transducer'` determines for each line in the dataframe where the relationship is true or false, and is accompanied by the index of the dataframe. "
   ]
  },
  {
   "cell_type": "code",
   "execution_count": 57,
   "metadata": {},
   "outputs": [
    {
     "data": {
      "text/plain": [
       "TIMESTAMP\n",
       "1995-03-01 00:00:00    False\n",
       "1995-04-01 00:00:00    False\n",
       "1995-05-01 00:00:00    False\n",
       "1995-06-01 00:00:00    False\n",
       "1995-07-01 00:00:00    False\n",
       "                       ...  \n",
       "2020-09-22 16:00:00     True\n",
       "2020-09-25 10:00:00     True\n",
       "2020-09-25 12:00:00     True\n",
       "2020-09-25 13:00:00     True\n",
       "2020-12-01 11:02:00    False\n",
       "Name: method, Length: 35168, dtype: bool"
      ]
     },
     "execution_count": 57,
     "metadata": {},
     "output_type": "execute_result"
    }
   ],
   "source": [
    "wellhead = pd.read_csv('http://aqueduct.isws.illinois.edu/data/360669.csv')\n",
    "wellhead.index = pd.to_datetime(wellhead['TIMESTAMP'])\n",
    "wellhead['method']=='Transducer'"
   ]
  },
  {
   "cell_type": "markdown",
   "metadata": {},
   "source": [
    "The following code takes this binary `True` and `False` output and selects from the dataframe only those lines where the condition is true. "
   ]
  },
  {
   "cell_type": "code",
   "execution_count": 58,
   "metadata": {},
   "outputs": [
    {
     "data": {
      "text/html": [
       "<div>\n",
       "<style scoped>\n",
       "    .dataframe tbody tr th:only-of-type {\n",
       "        vertical-align: middle;\n",
       "    }\n",
       "\n",
       "    .dataframe tbody tr th {\n",
       "        vertical-align: top;\n",
       "    }\n",
       "\n",
       "    .dataframe thead th {\n",
       "        text-align: right;\n",
       "    }\n",
       "</style>\n",
       "<table border=\"1\" class=\"dataframe\">\n",
       "  <thead>\n",
       "    <tr style=\"text-align: right;\">\n",
       "      <th></th>\n",
       "      <th>TIMESTAMP</th>\n",
       "      <th>GWE</th>\n",
       "      <th>method</th>\n",
       "    </tr>\n",
       "    <tr>\n",
       "      <th>TIMESTAMP</th>\n",
       "      <th></th>\n",
       "      <th></th>\n",
       "      <th></th>\n",
       "    </tr>\n",
       "  </thead>\n",
       "  <tbody>\n",
       "    <tr>\n",
       "      <th>2016-08-24 10:00:00</th>\n",
       "      <td>2016-08-24 10:00:00</td>\n",
       "      <td>475.83576</td>\n",
       "      <td>Transducer</td>\n",
       "    </tr>\n",
       "    <tr>\n",
       "      <th>2016-08-24 11:00:00</th>\n",
       "      <td>2016-08-24 11:00:00</td>\n",
       "      <td>475.83372</td>\n",
       "      <td>Transducer</td>\n",
       "    </tr>\n",
       "    <tr>\n",
       "      <th>2016-08-24 12:00:00</th>\n",
       "      <td>2016-08-24 12:00:00</td>\n",
       "      <td>475.83812</td>\n",
       "      <td>Transducer</td>\n",
       "    </tr>\n",
       "    <tr>\n",
       "      <th>2016-08-24 13:00:00</th>\n",
       "      <td>2016-08-24 13:00:00</td>\n",
       "      <td>475.84197</td>\n",
       "      <td>Transducer</td>\n",
       "    </tr>\n",
       "    <tr>\n",
       "      <th>2016-08-24 14:00:00</th>\n",
       "      <td>2016-08-24 14:00:00</td>\n",
       "      <td>475.84347</td>\n",
       "      <td>Transducer</td>\n",
       "    </tr>\n",
       "    <tr>\n",
       "      <th>...</th>\n",
       "      <td>...</td>\n",
       "      <td>...</td>\n",
       "      <td>...</td>\n",
       "    </tr>\n",
       "    <tr>\n",
       "      <th>2020-09-22 15:00:00</th>\n",
       "      <td>2020-09-22 15:00:00</td>\n",
       "      <td>NaN</td>\n",
       "      <td>Transducer</td>\n",
       "    </tr>\n",
       "    <tr>\n",
       "      <th>2020-09-22 16:00:00</th>\n",
       "      <td>2020-09-22 16:00:00</td>\n",
       "      <td>NaN</td>\n",
       "      <td>Transducer</td>\n",
       "    </tr>\n",
       "    <tr>\n",
       "      <th>2020-09-25 10:00:00</th>\n",
       "      <td>2020-09-25 10:00:00</td>\n",
       "      <td>477.12691</td>\n",
       "      <td>Transducer</td>\n",
       "    </tr>\n",
       "    <tr>\n",
       "      <th>2020-09-25 12:00:00</th>\n",
       "      <td>2020-09-25 12:00:00</td>\n",
       "      <td>477.14457</td>\n",
       "      <td>Transducer</td>\n",
       "    </tr>\n",
       "    <tr>\n",
       "      <th>2020-09-25 13:00:00</th>\n",
       "      <td>2020-09-25 13:00:00</td>\n",
       "      <td>477.14915</td>\n",
       "      <td>Transducer</td>\n",
       "    </tr>\n",
       "  </tbody>\n",
       "</table>\n",
       "<p>34971 rows × 3 columns</p>\n",
       "</div>"
      ],
      "text/plain": [
       "                               TIMESTAMP        GWE      method\n",
       "TIMESTAMP                                                      \n",
       "2016-08-24 10:00:00  2016-08-24 10:00:00  475.83576  Transducer\n",
       "2016-08-24 11:00:00  2016-08-24 11:00:00  475.83372  Transducer\n",
       "2016-08-24 12:00:00  2016-08-24 12:00:00  475.83812  Transducer\n",
       "2016-08-24 13:00:00  2016-08-24 13:00:00  475.84197  Transducer\n",
       "2016-08-24 14:00:00  2016-08-24 14:00:00  475.84347  Transducer\n",
       "...                                  ...        ...         ...\n",
       "2020-09-22 15:00:00  2020-09-22 15:00:00        NaN  Transducer\n",
       "2020-09-22 16:00:00  2020-09-22 16:00:00        NaN  Transducer\n",
       "2020-09-25 10:00:00  2020-09-25 10:00:00  477.12691  Transducer\n",
       "2020-09-25 12:00:00  2020-09-25 12:00:00  477.14457  Transducer\n",
       "2020-09-25 13:00:00  2020-09-25 13:00:00  477.14915  Transducer\n",
       "\n",
       "[34971 rows x 3 columns]"
      ]
     },
     "execution_count": 58,
     "metadata": {},
     "output_type": "execute_result"
    }
   ],
   "source": [
    "wellhead[wellhead['method']=='Transducer']"
   ]
  },
  {
   "cell_type": "markdown",
   "metadata": {},
   "source": [
    "Similarly, we could create a dataframe where elevations are only greater than 476 ft using the following code:"
   ]
  },
  {
   "cell_type": "code",
   "execution_count": 59,
   "metadata": {},
   "outputs": [
    {
     "data": {
      "text/html": [
       "<div>\n",
       "<style scoped>\n",
       "    .dataframe tbody tr th:only-of-type {\n",
       "        vertical-align: middle;\n",
       "    }\n",
       "\n",
       "    .dataframe tbody tr th {\n",
       "        vertical-align: top;\n",
       "    }\n",
       "\n",
       "    .dataframe thead th {\n",
       "        text-align: right;\n",
       "    }\n",
       "</style>\n",
       "<table border=\"1\" class=\"dataframe\">\n",
       "  <thead>\n",
       "    <tr style=\"text-align: right;\">\n",
       "      <th></th>\n",
       "      <th>TIMESTAMP</th>\n",
       "      <th>GWE</th>\n",
       "      <th>method</th>\n",
       "    </tr>\n",
       "    <tr>\n",
       "      <th>TIMESTAMP</th>\n",
       "      <th></th>\n",
       "      <th></th>\n",
       "      <th></th>\n",
       "    </tr>\n",
       "  </thead>\n",
       "  <tbody>\n",
       "    <tr>\n",
       "      <th>1995-03-01 00:00:00</th>\n",
       "      <td>1995-03-01 00:00:00</td>\n",
       "      <td>479.43000</td>\n",
       "      <td>Hand Measurement</td>\n",
       "    </tr>\n",
       "    <tr>\n",
       "      <th>1995-04-01 00:00:00</th>\n",
       "      <td>1995-04-01 00:00:00</td>\n",
       "      <td>479.60000</td>\n",
       "      <td>Hand Measurement</td>\n",
       "    </tr>\n",
       "    <tr>\n",
       "      <th>1995-05-01 00:00:00</th>\n",
       "      <td>1995-05-01 00:00:00</td>\n",
       "      <td>479.89000</td>\n",
       "      <td>Hand Measurement</td>\n",
       "    </tr>\n",
       "    <tr>\n",
       "      <th>1995-06-01 00:00:00</th>\n",
       "      <td>1995-06-01 00:00:00</td>\n",
       "      <td>483.74000</td>\n",
       "      <td>Hand Measurement</td>\n",
       "    </tr>\n",
       "    <tr>\n",
       "      <th>1995-07-01 00:00:00</th>\n",
       "      <td>1995-07-01 00:00:00</td>\n",
       "      <td>483.80000</td>\n",
       "      <td>Hand Measurement</td>\n",
       "    </tr>\n",
       "    <tr>\n",
       "      <th>...</th>\n",
       "      <td>...</td>\n",
       "      <td>...</td>\n",
       "      <td>...</td>\n",
       "    </tr>\n",
       "    <tr>\n",
       "      <th>2020-09-22 13:00:00</th>\n",
       "      <td>2020-09-22 13:00:00</td>\n",
       "      <td>477.18900</td>\n",
       "      <td>Transducer</td>\n",
       "    </tr>\n",
       "    <tr>\n",
       "      <th>2020-09-25 10:00:00</th>\n",
       "      <td>2020-09-25 10:00:00</td>\n",
       "      <td>477.12691</td>\n",
       "      <td>Transducer</td>\n",
       "    </tr>\n",
       "    <tr>\n",
       "      <th>2020-09-25 12:00:00</th>\n",
       "      <td>2020-09-25 12:00:00</td>\n",
       "      <td>477.14457</td>\n",
       "      <td>Transducer</td>\n",
       "    </tr>\n",
       "    <tr>\n",
       "      <th>2020-09-25 13:00:00</th>\n",
       "      <td>2020-09-25 13:00:00</td>\n",
       "      <td>477.14915</td>\n",
       "      <td>Transducer</td>\n",
       "    </tr>\n",
       "    <tr>\n",
       "      <th>2020-12-01 11:02:00</th>\n",
       "      <td>2020-12-01 11:02:00</td>\n",
       "      <td>476.78000</td>\n",
       "      <td>Hand Measurement</td>\n",
       "    </tr>\n",
       "  </tbody>\n",
       "</table>\n",
       "<p>12046 rows × 3 columns</p>\n",
       "</div>"
      ],
      "text/plain": [
       "                               TIMESTAMP        GWE            method\n",
       "TIMESTAMP                                                            \n",
       "1995-03-01 00:00:00  1995-03-01 00:00:00  479.43000  Hand Measurement\n",
       "1995-04-01 00:00:00  1995-04-01 00:00:00  479.60000  Hand Measurement\n",
       "1995-05-01 00:00:00  1995-05-01 00:00:00  479.89000  Hand Measurement\n",
       "1995-06-01 00:00:00  1995-06-01 00:00:00  483.74000  Hand Measurement\n",
       "1995-07-01 00:00:00  1995-07-01 00:00:00  483.80000  Hand Measurement\n",
       "...                                  ...        ...               ...\n",
       "2020-09-22 13:00:00  2020-09-22 13:00:00  477.18900        Transducer\n",
       "2020-09-25 10:00:00  2020-09-25 10:00:00  477.12691        Transducer\n",
       "2020-09-25 12:00:00  2020-09-25 12:00:00  477.14457        Transducer\n",
       "2020-09-25 13:00:00  2020-09-25 13:00:00  477.14915        Transducer\n",
       "2020-12-01 11:02:00  2020-12-01 11:02:00  476.78000  Hand Measurement\n",
       "\n",
       "[12046 rows x 3 columns]"
      ]
     },
     "execution_count": 59,
     "metadata": {},
     "output_type": "execute_result"
    }
   ],
   "source": [
    "wellhead[wellhead['GWE']>476]"
   ]
  },
  {
   "cell_type": "markdown",
   "metadata": {},
   "source": [
    "We've been experimenting a lot with this dataframe, so just to make sure, let's re-run our code in a single block, from importing data to resampling weekly. "
   ]
  },
  {
   "cell_type": "code",
   "execution_count": 60,
   "metadata": {},
   "outputs": [
    {
     "data": {
      "text/plain": [
       "<AxesSubplot:xlabel='TIMESTAMP'>"
      ]
     },
     "execution_count": 60,
     "metadata": {},
     "output_type": "execute_result"
    },
    {
     "data": {
      "image/png": "[encoded data removed]",
      "text/plain": [
       "<Figure size 432x288 with 1 Axes>"
      ]
     },
     "metadata": {
      "needs_background": "light"
     },
     "output_type": "display_data"
    }
   ],
   "source": [
    "wellhead = pd.read_csv('http://aqueduct.isws.illinois.edu/data/360669.csv')\n",
    "wellhead.index = pd.to_datetime(wellhead['TIMESTAMP'])\n",
    "wellhead = wellhead[wellhead['method']=='Transducer']\n",
    "wellhead_w = wellhead.resample('W').mean()\n",
    "wellhead_w.GWE.plot()"
   ]
  },
  {
   "cell_type": "markdown",
   "metadata": {},
   "source": [
    "### Calculating $\\Delta h$\n",
    "\n",
    "Now let's calculate the head differences between points in time. "
   ]
  },
  {
   "cell_type": "markdown",
   "metadata": {},
   "source": [
    "We need to calculate the difference in the average heads over each weekly interval. To do this, we simply take the difference between the head and the shifted head using the function `shift()`. "
   ]
  },
  {
   "cell_type": "code",
   "execution_count": 61,
   "metadata": {},
   "outputs": [
    {
     "name": "stdout",
     "output_type": "stream",
     "text": [
      "                   GWE\n",
      "TIMESTAMP             \n",
      "2016-08-28  475.811092\n",
      "2016-09-04  475.759444\n",
      "2016-09-11  475.723483\n",
      "2016-09-18  475.909658\n",
      "2016-09-25  476.006363\n",
      "...                ...\n",
      "2020-08-30  477.717467\n",
      "2020-09-06  477.593314\n",
      "2020-09-13  477.318871\n",
      "2020-09-20  477.228369\n",
      "2020-09-27  477.168958\n",
      "\n",
      "[214 rows x 1 columns]\n"
     ]
    }
   ],
   "source": [
    "print(wellhead_w)"
   ]
  },
  {
   "cell_type": "code",
   "execution_count": 63,
   "metadata": {
    "scrolled": false
   },
   "outputs": [
    {
     "data": {
      "text/html": [
       "<div>\n",
       "<style scoped>\n",
       "    .dataframe tbody tr th:only-of-type {\n",
       "        vertical-align: middle;\n",
       "    }\n",
       "\n",
       "    .dataframe tbody tr th {\n",
       "        vertical-align: top;\n",
       "    }\n",
       "\n",
       "    .dataframe thead th {\n",
       "        text-align: right;\n",
       "    }\n",
       "</style>\n",
       "<table border=\"1\" class=\"dataframe\">\n",
       "  <thead>\n",
       "    <tr style=\"text-align: right;\">\n",
       "      <th></th>\n",
       "      <th>GWE</th>\n",
       "      <th>deltah</th>\n",
       "    </tr>\n",
       "    <tr>\n",
       "      <th>TIMESTAMP</th>\n",
       "      <th></th>\n",
       "      <th></th>\n",
       "    </tr>\n",
       "  </thead>\n",
       "  <tbody>\n",
       "    <tr>\n",
       "      <th>2016-08-28</th>\n",
       "      <td>475.811092</td>\n",
       "      <td>NaN</td>\n",
       "    </tr>\n",
       "    <tr>\n",
       "      <th>2016-09-04</th>\n",
       "      <td>475.759444</td>\n",
       "      <td>-0.051648</td>\n",
       "    </tr>\n",
       "    <tr>\n",
       "      <th>2016-09-11</th>\n",
       "      <td>475.723483</td>\n",
       "      <td>-0.035961</td>\n",
       "    </tr>\n",
       "    <tr>\n",
       "      <th>2016-09-18</th>\n",
       "      <td>475.909658</td>\n",
       "      <td>0.186175</td>\n",
       "    </tr>\n",
       "    <tr>\n",
       "      <th>2016-09-25</th>\n",
       "      <td>476.006363</td>\n",
       "      <td>0.096704</td>\n",
       "    </tr>\n",
       "    <tr>\n",
       "      <th>...</th>\n",
       "      <td>...</td>\n",
       "      <td>...</td>\n",
       "    </tr>\n",
       "    <tr>\n",
       "      <th>2020-08-30</th>\n",
       "      <td>477.717467</td>\n",
       "      <td>-0.195199</td>\n",
       "    </tr>\n",
       "    <tr>\n",
       "      <th>2020-09-06</th>\n",
       "      <td>477.593314</td>\n",
       "      <td>-0.124153</td>\n",
       "    </tr>\n",
       "    <tr>\n",
       "      <th>2020-09-13</th>\n",
       "      <td>477.318871</td>\n",
       "      <td>-0.274443</td>\n",
       "    </tr>\n",
       "    <tr>\n",
       "      <th>2020-09-20</th>\n",
       "      <td>477.228369</td>\n",
       "      <td>-0.090502</td>\n",
       "    </tr>\n",
       "    <tr>\n",
       "      <th>2020-09-27</th>\n",
       "      <td>477.168958</td>\n",
       "      <td>-0.059411</td>\n",
       "    </tr>\n",
       "  </tbody>\n",
       "</table>\n",
       "<p>214 rows × 2 columns</p>\n",
       "</div>"
      ],
      "text/plain": [
       "                   GWE    deltah\n",
       "TIMESTAMP                       \n",
       "2016-08-28  475.811092       NaN\n",
       "2016-09-04  475.759444 -0.051648\n",
       "2016-09-11  475.723483 -0.035961\n",
       "2016-09-18  475.909658  0.186175\n",
       "2016-09-25  476.006363  0.096704\n",
       "...                ...       ...\n",
       "2020-08-30  477.717467 -0.195199\n",
       "2020-09-06  477.593314 -0.124153\n",
       "2020-09-13  477.318871 -0.274443\n",
       "2020-09-20  477.228369 -0.090502\n",
       "2020-09-27  477.168958 -0.059411\n",
       "\n",
       "[214 rows x 2 columns]"
      ]
     },
     "execution_count": 63,
     "metadata": {},
     "output_type": "execute_result"
    }
   ],
   "source": [
    "wellhead_w['deltah'] = wellhead_w['GWE']-wellhead_w['GWE'].shift()\n",
    "wellhead_w"
   ]
  },
  {
   "cell_type": "markdown",
   "metadata": {},
   "source": [
    "Okay, I intentionally tackled a few steps there, but we need to walk through that again. What is shift doing here? Let's take a closer look:"
   ]
  },
  {
   "cell_type": "code",
   "execution_count": 64,
   "metadata": {},
   "outputs": [
    {
     "data": {
      "text/plain": [
       "TIMESTAMP\n",
       "2016-08-28    475.811092\n",
       "2016-09-04    475.759444\n",
       "2016-09-11    475.723483\n",
       "2016-09-18    475.909658\n",
       "2016-09-25    476.006363\n",
       "                 ...    \n",
       "2020-08-30    477.717467\n",
       "2020-09-06    477.593314\n",
       "2020-09-13    477.318871\n",
       "2020-09-20    477.228369\n",
       "2020-09-27    477.168958\n",
       "Freq: W-SUN, Name: GWE, Length: 214, dtype: float64"
      ]
     },
     "execution_count": 64,
     "metadata": {},
     "output_type": "execute_result"
    }
   ],
   "source": [
    "#here is the original data\n",
    "wellhead_w['GWE']"
   ]
  },
  {
   "cell_type": "code",
   "execution_count": 65,
   "metadata": {},
   "outputs": [
    {
     "data": {
      "text/plain": [
       "TIMESTAMP\n",
       "2016-08-28           NaN\n",
       "2016-09-04    475.811092\n",
       "2016-09-11    475.759444\n",
       "2016-09-18    475.723483\n",
       "2016-09-25    475.909658\n",
       "                 ...    \n",
       "2020-08-30    477.912667\n",
       "2020-09-06    477.717467\n",
       "2020-09-13    477.593314\n",
       "2020-09-20    477.318871\n",
       "2020-09-27    477.228369\n",
       "Freq: W-SUN, Name: GWE, Length: 214, dtype: float64"
      ]
     },
     "execution_count": 65,
     "metadata": {},
     "output_type": "execute_result"
    }
   ],
   "source": [
    "# and the shifted data\n",
    "wellhead_w['GWE'].shift()"
   ]
  },
  {
   "cell_type": "markdown",
   "metadata": {},
   "source": [
    "The index does not change, nor does the length. However, the first value has been pushed down by one, replaced with an NaN. NaN's are just Pandas/Pythons way of defining \"Not a Number\", we'll take care of that next. \n",
    "\n",
    "What are we really doing by shifting values? Well, if we subtract the two columns from one another, we are really taking the difference from the head in the previous day (given by the shifted value) and the head in the current day (given by the unshifted value). In other words, the difference on `2016-09-04` between the two is 475.76 (the actual head on that day) minus 475.81 (the head on the previous day). The head went down in this case, so the negative sign that is yielded by the difference makes sense.  "
   ]
  },
  {
   "cell_type": "markdown",
   "metadata": {},
   "source": [
    "Scrolling back up, you can see that the value calculated as `delta h` for the first time interval is an `NaN`. Math is complicated when NaNs are present, as happens in the first delta_h. Let's fill that value with a float in by backfilling values (NaNs are set equal to the next value). "
   ]
  },
  {
   "cell_type": "code",
   "execution_count": 66,
   "metadata": {
    "scrolled": false
   },
   "outputs": [
    {
     "name": "stdout",
     "output_type": "stream",
     "text": [
      "                   GWE    deltah\n",
      "TIMESTAMP                       \n",
      "2016-08-28  475.811092 -0.051648\n",
      "2016-09-04  475.759444 -0.051648\n",
      "2016-09-11  475.723483 -0.035961\n",
      "2016-09-18  475.909658  0.186175\n",
      "2016-09-25  476.006363  0.096704\n",
      "...                ...       ...\n",
      "2020-08-30  477.717467 -0.195199\n",
      "2020-09-06  477.593314 -0.124153\n",
      "2020-09-13  477.318871 -0.274443\n",
      "2020-09-20  477.228369 -0.090502\n",
      "2020-09-27  477.168958 -0.059411\n",
      "\n",
      "[214 rows x 2 columns]\n"
     ]
    }
   ],
   "source": [
    "wellhead_w = wellhead_w.fillna(method='bfill')\n",
    "print(wellhead_w)"
   ]
  },
  {
   "cell_type": "markdown",
   "metadata": {},
   "source": [
    "### Estimate recharge\n",
    "Recall that our goal is to calculate recharge usig the Water Table Fluctuation method, which requires specific yield $S_y$ and time interval $\\Delta t$. For simplicity, let's assume that $S_y$ is equal to 0.2 (we will see later if this actually makes sense) and a time interval of 7 days (consistent with our resampling of 1 week)."
   ]
  },
  {
   "cell_type": "code",
   "execution_count": 67,
   "metadata": {
    "scrolled": true
   },
   "outputs": [
    {
     "name": "stdout",
     "output_type": "stream",
     "text": [
      "                   GWE    deltah  recharge\n",
      "TIMESTAMP                                 \n",
      "2016-08-28  475.811092 -0.051648 -0.001476\n",
      "2016-09-04  475.759444 -0.051648 -0.001476\n",
      "2016-09-11  475.723483 -0.035961 -0.001027\n",
      "2016-09-18  475.909658  0.186175  0.005319\n",
      "2016-09-25  476.006363  0.096704  0.002763\n",
      "...                ...       ...       ...\n",
      "2020-08-30  477.717467 -0.195199 -0.005577\n",
      "2020-09-06  477.593314 -0.124153 -0.003547\n",
      "2020-09-13  477.318871 -0.274443 -0.007841\n",
      "2020-09-20  477.228369 -0.090502 -0.002586\n",
      "2020-09-27  477.168958 -0.059411 -0.001697\n",
      "\n",
      "[214 rows x 3 columns]\n"
     ]
    }
   ],
   "source": [
    "sy = 0.2\n",
    "timeint = 7\n",
    "\n",
    "wellhead_w['recharge'] = sy*wellhead_w['deltah']/timeint\n",
    "print(wellhead_w)\n"
   ]
  },
  {
   "cell_type": "markdown",
   "metadata": {},
   "source": [
    "So close, but there are a lot of negative recharge values here. The Water Table Fluctation method as defined by the USGS as only positive recharge values, negative values should be set to 0 recharge."
   ]
  },
  {
   "cell_type": "markdown",
   "metadata": {},
   "source": [
    "Here's a nifty little code that does this for you."
   ]
  },
  {
   "cell_type": "code",
   "execution_count": 69,
   "metadata": {},
   "outputs": [
    {
     "data": {
      "text/plain": [
       "<AxesSubplot:xlabel='TIMESTAMP'>"
      ]
     },
     "execution_count": 69,
     "metadata": {},
     "output_type": "execute_result"
    },
    {
     "data": {
      "image/png": "[encoded data removed]",
      "text/plain": [
       "<Figure size 432x288 with 1 Axes>"
      ]
     },
     "metadata": {
      "needs_background": "light"
     },
     "output_type": "display_data"
    }
   ],
   "source": [
    "wellhead_w['recharge'].plot()"
   ]
  },
  {
   "cell_type": "code",
   "execution_count": 70,
   "metadata": {},
   "outputs": [
    {
     "data": {
      "text/plain": [
       "<AxesSubplot:xlabel='TIMESTAMP'>"
      ]
     },
     "execution_count": 70,
     "metadata": {},
     "output_type": "execute_result"
    },
    {
     "data": {
      "image/png": "[encoded data removed]",
      "text/plain": [
       "<Figure size 432x288 with 1 Axes>"
      ]
     },
     "metadata": {
      "needs_background": "light"
     },
     "output_type": "display_data"
    }
   ],
   "source": [
    "# Write a code that sets negative values equal to zero\n",
    "wellhead_w[wellhead_w['recharge']<0]=0\n",
    "wellhead_w['recharge'].plot()"
   ]
  },
  {
   "cell_type": "markdown",
   "metadata": {},
   "source": [
    "### Plot head and recharge data\n",
    "\n",
    "We want to observe the relationship between head changes and recharge. Let's plot both up. Note that we add a title based on the original url. "
   ]
  },
  {
   "cell_type": "code",
   "execution_count": 71,
   "metadata": {},
   "outputs": [
    {
     "data": {
      "image/png": "[encoded data removed]",
      "text/plain": [
       "<Figure size 432x288 with 1 Axes>"
      ]
     },
     "metadata": {
      "needs_background": "light"
     },
     "output_type": "display_data"
    },
    {
     "data": {
      "image/png": "[encoded data removed]",
      "text/plain": [
       "<Figure size 432x288 with 1 Axes>"
      ]
     },
     "metadata": {
      "needs_background": "light"
     },
     "output_type": "display_data"
    }
   ],
   "source": [
    "# plot a line at a time\n",
    "wellhead.GWE.plot()\n",
    "plt.title(\"Head: \"+ head_csv[39:])\n",
    "plt.ylabel('head (ft)')\n",
    "plt.xticks(rotation=30)\n",
    "plt.show()\n",
    "\n",
    "plt.figure()\n",
    "plt.title(\"Head: \"+ head_csv[39:])\n",
    "wellhead_w.recharge.plot()\n",
    "plt.ylabel('recharge (ft/day)')\n",
    "plt.xticks(rotation = 30)\n",
    "plt.show()\n"
   ]
  },
  {
   "cell_type": "markdown",
   "metadata": {},
   "source": [
    "The above plots are difficult to compare because the curves aren't on the same line. Using a slightly more complicated code, we can plot both heads and recharge on the same plot using different y-axes. \n",
    "\n",
    "I'll post a supplemental video discussing the details of this code. For now, you should be able to copy, paste, and modify. "
   ]
  },
  {
   "cell_type": "code",
   "execution_count": 72,
   "metadata": {},
   "outputs": [
    {
     "data": {
      "image/png": "[encoded data removed]",
      "text/plain": [
       "<Figure size 432x288 with 2 Axes>"
      ]
     },
     "metadata": {
      "needs_background": "light"
     },
     "output_type": "display_data"
    }
   ],
   "source": [
    "# Define a figure the primary axis\n",
    "fig, ax1 = plt.subplots()\n",
    "\n",
    "# There are a different set of functions/methods for defining properties of the primary axis. \n",
    "color = 'tab:blue'\n",
    "ax1.set_xlabel('Time')\n",
    "ax1.set_ylabel('Head (ft)', color=color)\n",
    "ax1.plot(wellhead.GWE, color=color)\n",
    "ax1.tick_params(axis='y', labelcolor=color)\n",
    "ax1.tick_params(axis='x', rotation=30)\n",
    "\n",
    "ax2 = ax1.twinx()  # instantiate a second axes that shares the same x-axis\n",
    "color = 'tab:red'\n",
    "ax2.set_ylabel('Recharge (ft/day)', color=color)  # we already handled the x-label with ax1\n",
    "ax2.plot(wellhead_w.recharge, color=color)\n",
    "ax2.tick_params(axis='y', labelcolor=color)\n",
    "ax2.axhline(linewidth=2, color='k')\n",
    "\n",
    "\n",
    "\n",
    "fig.tight_layout()  # otherwise the right y-label is slightly clipped\n",
    "plt.show()\n"
   ]
  },
  {
   "cell_type": "markdown",
   "metadata": {},
   "source": [
    "## You now have everything you need to start on Module 2's Homework assignment."
   ]
  }
 ],
 "metadata": {
  "kernelspec": {
   "display_name": "Python 3",
   "language": "python",
   "name": "python3"
  },
  "language_info": {
   "codemirror_mode": {
    "name": "ipython",
    "version": 3
   },
   "file_extension": ".py",
   "mimetype": "text/x-python",
   "name": "python",
   "nbconvert_exporter": "python",
   "pygments_lexer": "ipython3",
   "version": "3.8.5"
  }
 },
 "nbformat": 4,
 "nbformat_minor": 1
}
